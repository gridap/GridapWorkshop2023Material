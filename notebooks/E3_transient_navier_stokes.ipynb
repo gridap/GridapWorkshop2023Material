{
 "cells": [
  {
   "cell_type": "markdown",
   "source": [
    "## Problem statement\n",
    "\n",
    "The goal is to solve a time-dependent nonlinear multi-field PDE. As a model problem, we consider a well known benchmark in computational fluid dynamics, the laminar flow around a cylinder for the transient incompressible Navier-Stokes equations. We will solve this problem by building on the previous exercise.\n",
    "\n",
    "Like in the previous exercise, the computational domain $\\Omega$ is a 2-dimensional channel. The fluid enters the channel from the left boundary (inlet) and exits through the right boundary (outlet). The channel has a cylindrical obstacle near the inlet. The domain can be seen in the following figure:\n",
    "\n",
    "![](../figures/ins/perforated_plate.png)\n",
    "\n",
    "\n",
    "We define $\\partial \\Omega = \\Gamma_{w} \\cup \\Gamma_{c} \\cup \\Gamma_{in} \\cup \\Gamma_{out}$ with $\\Gamma_{w}$ the top and bottom channel walls, $\\Gamma_{c}$ the cylinder walls, $\\Gamma_{in}$ the inlet and $\\Gamma_{out}$ the outlet.\n",
    "\n",
    "Formally, the PDE we want to solve is: find the velocity vector $u$ and the pressure $p$ such that\n",
    "\n",
    "$$\n",
    "\\left\\lbrace\n",
    "\\begin{aligned}\n",
    "\\frac{\\partial u}{\\partial t} - \\Delta u + \\mathit{Re}\\ (u\\cdot \\nabla)\\ u + \\nabla p = 0 &\\text{ in }\\Omega,\\\\\n",
    "\\nabla\\cdot u = 0 &\\text{ in } \\Omega,\\\\\n",
    "u = u_{in} &\\text{ on } \\Gamma_{in},\\\\\n",
    "u = 0 &\\text{ on } \\Gamma_{w} \\cup \\Gamma_{c},\\\\\n",
    "n_\\Gamma \\cdot \\sigma = 0 &\\text{ on } \\Gamma_{out},\\\\\n",
    "\\end{aligned}\n",
    "\\right.\n",
    "$$\n",
    "\n",
    "where $d=2$ , and $\\mathit{Re}$ is the Reynolds number.\n",
    "\n",
    "The inflow condition is now time-dependent and given by\n",
    "\n",
    "$$\n",
    "u_{in}(0,y,t) = \\left( 4 U_{m} \\frac{y(H-y)}{H^2} \\xi(t), 0 \\right)\n",
    "$$\n",
    "\n",
    "with $U_{m}=1.5 \\ m/s$ the maximum velocity, $H = 0.41 \\ m$ the height of the channel and $\\xi$ a function\n",
    "\n",
    "$$\n",
    "\\xi(t) = \\left\\lbrace\n",
    "\\begin{aligned}\n",
    "  \\sin\\left(\\frac{\\pi t}{2 T_{th}}\\right) &\\text{ if } t \\leq T_{th} \\\\\n",
    "  1.0 &\\text{ if } t > T_{th} \\\\\n",
    "\\end{aligned}\n",
    "\\right.\n",
    "$$\n",
    "\n",
    "with $T_{th}$ the time it takes for the flow to reach a steady state.\n",
    "\n",
    "## Numerical Scheme\n",
    "\n",
    "In order to approximate this problem we choose the same formulation as before, namely a formulation based on inf-sup stable $P_{k}/P_{k-1}$ triangular elements with continuous velocities and pressures. The interpolation spaces are defined as follows. The velocity interpolation space is\n",
    "\n",
    "$$\n",
    "V \\doteq \\{ v \\in [H^1(\\Omega)]^d:\\ v|_T\\in [P_k(T)]^d \\text{ for all } T\\in\\mathcal{T} \\},\n",
    "$$\n",
    "\n",
    "where $T$ denotes an arbitrary cell of the FE mesh $\\mathcal{T}$, and $P_k(T)$ is the usual Lagrangian FE space of order $k$ defined on a mesh of triangles or tetrahedra.\n",
    "On the other hand, the space for the pressure is given by\n",
    "\n",
    "$$\n",
    "Q \\doteq \\{ q \\in C^0(\\Omega):\\ q|_T\\in P_{k-1}(T) \\text{ for all } T\\in\\mathcal{T}\\}.\n",
    "$$\n",
    "\n",
    "The weak form associated to these interpolation spaces reads: find $(u,p)\\in U_g \\times Q$ such that $[r(u,p)](v,q)=0$ for all $(v,q)\\in V_0 \\times Q$\n",
    "where $U_g$ and $V_0$ are the set of functions in $V$ fulfilling the Dirichlet boundary conditions and the homogeneous Dirichlet boundary conditions respectively. The weak residual $r$ evaluated at a given pair $(u,p)$ is the linear form defined as\n",
    "\n",
    "$$\n",
    "[r(t,(u,p))](v,q) \\doteq m(t,(u,p),(v,q)) + a(t,(u,p),(v,q)) + [c(u)](v),\n",
    "$$\n",
    "with\n",
    "$$\n",
    "\\begin{aligned}\n",
    "m(t,(u,p),(v,q)) &\\doteq \\int_{\\Omega} \\frac{\\partial u}{\\partial t} \\cdot v \\ {\\rm d}\\Omega,\\\\\n",
    "a(t,(u,p),(v,q)) &\\doteq \\int_{\\Omega} \\nabla v \\cdot \\nabla u \\ {\\rm d}\\Omega - \\int_{\\Omega} (\\nabla\\cdot v) \\ p \\ {\\rm d}\\Omega + \\int_{\\Omega} q \\ (\\nabla \\cdot u) \\ {\\rm d}\\Omega,\\\\\n",
    "[c(u)](v) &\\doteq \\int_{\\Omega} v \t\\cdot \\left( (u\\cdot\\nabla)\\ u \\right)\\ {\\rm d}\\Omega.\\\\\n",
    "\\end{aligned}\n",
    "$$\n",
    "\n",
    "In this exercise, we will rely on automatic differentiation to compute the necessary jacobians in time and space."
   ],
   "metadata": {}
  },
  {
   "cell_type": "markdown",
   "source": [
    "## Geometry\n",
    "\n",
    "### Exercise 1\n",
    "\n",
    "_By using the code in the previous exercise, load the mesh from the file `perforated_plate_tiny.msh`. If your computer is good enough, or if you are working on Gadi, you might want to try the refined model in file `perforated_plate.msh`._"
   ],
   "metadata": {}
  },
  {
   "outputs": [],
   "cell_type": "code",
   "source": [
    "using Gridap, GridapGmsh\n",
    "using DrWatson\n",
    "\n",
    "# model ="
   ],
   "metadata": {},
   "execution_count": null
  },
  {
   "cell_type": "markdown",
   "source": [
    "## FE spaces\n",
    "\n",
    "### Exercise 2\n",
    "\n",
    "_Define the test FE spaces for the velocity and pressure, using the same discretisations as in the previous exercise._"
   ],
   "metadata": {}
  },
  {
   "outputs": [],
   "cell_type": "code",
   "source": [
    "D = 2\n",
    "k = 2\n",
    "\n",
    "# reffeᵤ =\n",
    "# reffeₚ =\n",
    "# V =\n",
    "# Q ="
   ],
   "metadata": {},
   "execution_count": null
  },
  {
   "cell_type": "markdown",
   "source": [
    "### Exercise 3\n",
    "_Define the boundary conditions for velocity. You should define three functions `u_in`, `u_w` and `u_c` representing the prescribed dirichlet values at $\\Gamma_{in}$, $\\Gamma_w$ and $\\Gamma_c$ respectively._"
   ],
   "metadata": {}
  },
  {
   "outputs": [],
   "cell_type": "code",
   "source": [
    "const Tth = 2\n",
    "const Uₘ = 1.5\n",
    "const H  = 0.41\n",
    "ξ(t) = (t <= Tth) ? sin(π*t/(2*Tth)) : 1.0\n",
    "# u_in(x,t::Real) =\n",
    "# u_w(x,t::Real)  =\n",
    "# u_c(x,t::Real)  =\n",
    "u_in(t::Real)   = x -> u_in(x,t)\n",
    "u_w(t::Real)    = x -> u_w(x,t)\n",
    "u_c(t::Real)    = x -> u_c(x,t)"
   ],
   "metadata": {},
   "execution_count": null
  },
  {
   "cell_type": "markdown",
   "source": [
    "### Exercise 4\n",
    "_Define the trial and test spaces for the velocity and pressure fields, as well as the corresponding multi-field spaces._"
   ],
   "metadata": {}
  },
  {
   "outputs": [],
   "cell_type": "code",
   "source": [
    "# U =\n",
    "# P =\n",
    "# Y =\n",
    "# X ="
   ],
   "metadata": {},
   "execution_count": null
  },
  {
   "cell_type": "markdown",
   "source": [
    "## Nonlinear weak form and FE operator\n",
    "\n",
    "As usual, we start by defining the triangulations and measures we will need to define the weak form. In this case, we need to define the measure associate with the bulk $d\\Omega$, as well as the measure associated with the outlet boundary $\\Gamma_{out}$."
   ],
   "metadata": {}
  },
  {
   "outputs": [],
   "cell_type": "code",
   "source": [
    "degree = k\n",
    "Ω  = Triangulation(model)\n",
    "dΩ = Measure(Ω,degree)\n",
    "\n",
    "Γ_out = BoundaryTriangulation(model,tags=\"outlet\")\n",
    "n_Γout = get_normal_vector(Γ_out)\n",
    "dΓ_out = Measure(Γ_out,degree)"
   ],
   "metadata": {},
   "execution_count": null
  },
  {
   "cell_type": "markdown",
   "source": [
    "We also define the Reynolds number and functions to represent the convective term."
   ],
   "metadata": {}
  },
  {
   "outputs": [],
   "cell_type": "code",
   "source": [
    "const Re = 100.0\n",
    "conv(u,∇u) = Re*(∇u')⋅u"
   ],
   "metadata": {},
   "execution_count": null
  },
  {
   "cell_type": "markdown",
   "source": [
    "### Exercise 5\n",
    "_Define the residual $r$ and the `TransientFEOperator` for our problem._"
   ],
   "metadata": {}
  },
  {
   "outputs": [],
   "cell_type": "code",
   "source": [
    "# m(t,(u,p),(v,q)) =\n",
    "# a(t,(u,p),(v,q)) =\n",
    "# c(u,v) =\n",
    "# res(t,(u,p),(v,q)) =\n",
    "\n",
    "op = TransientFEOperator(res,X,Y)"
   ],
   "metadata": {},
   "execution_count": null
  },
  {
   "cell_type": "markdown",
   "source": [
    "## Solver and solution\n",
    "\n",
    "### Exercise 6\n",
    "\n",
    "_Create the ODE solver. In this exercise you should use the `ThetaMethod` with $\\theta = 0.5$ and a time step size $\\Delta t = 0.01$. Create a Newton-Raphson nonlinear solver to solve the nonlinear problem at each time step._"
   ],
   "metadata": {}
  },
  {
   "outputs": [],
   "cell_type": "code",
   "source": [
    "using LineSearches: BackTracking\n",
    "nls = NLSolver(show_trace=true, method=:newton, linesearch=BackTracking())\n",
    "\n",
    "# Δt =\n",
    "# θ  =\n",
    "# ode_solver ="
   ],
   "metadata": {},
   "execution_count": null
  },
  {
   "cell_type": "markdown",
   "source": [
    "We can then solve the problem and print the solutions as follows:"
   ],
   "metadata": {}
  },
  {
   "outputs": [],
   "cell_type": "code",
   "source": [
    "u₀ = interpolate_everywhere([VectorValue(0.0,0.0),0.0],X(0.0))\n",
    "t₀ = 0.0\n",
    "T  = Tth\n",
    "xₕₜ = solve(ode_solver,op,u₀,t₀,T)\n",
    "\n",
    "dir = datadir(\"ins_transient\")\n",
    "!isdir(dir) && mkdir(dir)\n",
    "createpvd(dir) do pvd\n",
    "  for (xₕ,t) in xₕₜ\n",
    "    println(\" > Computing solution at time $t\")\n",
    "    uₕ,pₕ = xₕ\n",
    "    file = dir*\"/solution_$t\"*\".vtu\"\n",
    "    pvd[t] = createvtk(Ω,file,cellfields=[\"u\"=>uₕ,\"p\"=>pₕ])\n",
    "  end\n",
    "end"
   ],
   "metadata": {},
   "execution_count": null
  }
 ],
 "nbformat_minor": 3,
 "metadata": {
  "language_info": {
   "file_extension": ".jl",
   "mimetype": "application/julia",
   "name": "julia",
   "version": "1.9.1"
  },
  "kernelspec": {
   "name": "julia-1.9",
   "display_name": "Julia 1.9.1",
   "language": "julia"
  }
 },
 "nbformat": 4
}
