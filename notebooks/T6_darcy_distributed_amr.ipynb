{
 "cells": [
  {
   "cell_type": "markdown",
   "source": [
    "The purpose of this tutorial is two-fold:\n",
    " - To illustrate how to solve a system of PDEs where one of the unknowns\n",
    "   lives in $H({\\rm div};\\Omega)$ (as opposed to $H^1(\\Omega)$), thus requiring\n",
    "   the construction of a div-conforming finite element space (as opposed to a grad-conforming finite element space).\n",
    " - To showcase the *dynamic* Adaptive Mesh Refinement (AMR) parallel distributed-memory\n",
    "   capabilities provided by `GridapP4est.jl`. To this end, we will solve a system of PDEs featuring a\n",
    "   multi-scale solution where the use of these techniques is particularly beneficial from a computational\n",
    "   point of view."
   ],
   "metadata": {}
  },
  {
   "cell_type": "markdown",
   "source": [
    "## Problem statement (strong form)\n",
    "\n",
    "We consider as a model problem the so-called Darcy equations, which can be used\n",
    "as a physical model of fluid flow in porous media. The PDE problem reads: find the fluid velocity $u$, and the fluid pressure $p$ such that:\n",
    "\n",
    "$$\n",
    "   \\left\\lbrace\n",
    "   \\begin{aligned}\n",
    "      \\Kappa^{-1} u + \\nabla p = {\\bf 0}  \\ &\\text{ in } \\ \\Omega,\\\\\n",
    "      \\nabla \\cdot u = f  \\ &\\text{ in } \\ \\Omega,\\\\\n",
    "      p = g \\ &\\text{ on }\\ \\Gamma_{\\rm N},\\\\\n",
    "      u \\cdot n = h \\ &\\text{ on }\\  \\Gamma_{\\rm D},\\\\\n",
    "   \\end{aligned}\n",
    "   \\right.\n",
    "$$\n",
    "\n",
    "with $n$ being the outwards unit normal vector to the boundary $\\partial\\Omega$, and $\\Kappa$ the so-called hydraulic conductivity tensor.  The first equation is known as Darcy’s law and was formulated by Henry Darcy in 1856; the second equation is the mass conservation equation."
   ],
   "metadata": {}
  },
  {
   "cell_type": "markdown",
   "source": [
    "In this particular tutorial, for simplicity, we consider the unit square $\\Omega \\doteq (0,1)^2$ as the computational domain. Besides, we consider pure Neumann boundary conditions, that is, the Neumann boundary $\\Gamma_{\\rm N}$ is the full boundary of $\\Omega$, and $\\Gamma_{\\rm D}$ is the empty set (i.e., no Dirichlet boundary condition). Finally, we consider the hydraulic conductivity tensor $\\Kappa$ to be just the identity tensor. In any case, we stress that the general version of the equations stated above are also supported by Gridap."
   ],
   "metadata": {}
  },
  {
   "cell_type": "markdown",
   "source": [
    "The source term $f$ in the mass conservation equation and the Neumann data $g$ are chosen such that the exact (manufactured) fluid pressure is:\n",
    "$$\n",
    "p_{\\rm exact}(\\boldsymbol{x}) := \\mathrm{arctan}(\\gamma(\\sqrt{(\\boldsymbol{x}-\\boldsymbol{x}_c)\\cdot(\\boldsymbol{x}-\\boldsymbol{x}_c)}-r)).\n",
    "$$\n",
    "Besides, using Darcy's law (i.e., first equation of the system above), we manufacture $u_{\\rm exact}=-\\Kappa \\nabla p_{\\rm exact}$."
   ],
   "metadata": {}
  },
  {
   "cell_type": "markdown",
   "source": [
    "The solution $p_{\\rm exact}(\\boldsymbol{x})$ has a sharp circular wave front of radius $r$ centered at $\\boldsymbol{x}_c$. For example, for the combination of parameter values $\\gamma=200$, $r=0.7$, and $\\boldsymbol{x}_c=(-0.05, -0.05)$, $p_{\\rm exact}(\\boldsymbol{x})$ looks as in the picture below:\n",
    "![](../figures/darcy_amr/circular_sharp_wave_2d.png)\n",
    "As a consequence of the multi-scale features of this solution, uniform mesh refinement techniques can only reduce the error at a very slow pace with increasing mesh resolution, and thus are very computationally inefficient."
   ],
   "metadata": {}
  },
  {
   "cell_type": "markdown",
   "source": [
    "## Problem statement (weak form)"
   ],
   "metadata": {}
  },
  {
   "cell_type": "markdown",
   "source": [
    "We denote by $H(\\mathrm{div};\\Omega)$ the space of vector-valued fields in $\\Omega$, whose components and divergence are in $L^2(\\Omega)$. With this notation, the weak form  of our problem reads: find $(u,p)\\in H(\\mathrm{div};\\Omega)\\times L^2(\\Omega)$ such that $a((u,p),(v,q)) = b(v,q)$ for all $(v,q)\\in H(\\mathrm{div};\\Omega)\\times L^2(\\Omega)$, where\n",
    "\n",
    "$$\n",
    "\\begin{aligned}\n",
    "a((u,p),(v,q)) &\\doteq \\int_{\\Omega}  v \\cdot u \\ {\\rm d}\\Omega - \\int_{\\Omega} (\\nabla \\cdot v)\\ p \\ {\\rm d}\\Omega + \\int_{\\Omega} q\\ (\\nabla \\cdot u) \\ {\\rm d}\\Omega,\\\\\n",
    "b(v,q) &\\doteq \\int_{\\Omega} q\\ f \\ {\\rm  d}\\Omega - \\int_{\\Gamma_{\\rm N}} (v\\cdot n)\\ g  \\ {\\rm  d}\\Gamma.\n",
    "\\end{aligned}\n",
    "$$"
   ],
   "metadata": {}
  },
  {
   "cell_type": "markdown",
   "source": [
    "This weak form was obtained from the strong form as usual, i.e., multiplication by suitable test functions, and integration by parts in order to transfer derivatives from trial to test functions to reduce the regularity constraints on the weak solution."
   ],
   "metadata": {}
  },
  {
   "cell_type": "markdown",
   "source": [
    " ## Numerical scheme\n",
    "\n",
    "In this tutorial, we use the div-conforming Raviart-Thomas (RT) space of polynomial order $k\\geq0$ for the fluid velocity approximation, and a discontinuous space of cell-wise polynomials of order $k$ in each spatial dimension (denoted as $Q_k$) for the fluid pressure approximation (see [1] for specific details). This pair of finite element spaces form a so-called *discrete inf-sup stable pair*. This mathematical property guarantees that the discrete problem is *well-posed*, i.e., it has a unique solution."
   ],
   "metadata": {}
  },
  {
   "cell_type": "markdown",
   "source": [
    "## Adaptive Mesh Refinement (AMR) with forest-of-trees"
   ],
   "metadata": {}
  },
  {
   "cell_type": "markdown",
   "source": [
    "In this tutorial we leverage a more clever/efficient domain discretization approach provided by [`GridapP4est.jl`](https://github.com/gridap/GridapP4est.jl). In particular, we will used a particular Gridap's `DiscreteModel` that efficiently supports *dynamic* $h$-adaptivity techniques (a.k.a. AMR), i.e., the ability of the mesh to be refined *in the course of the simulation* in those regions of the domain that present a complex behaviour (e.g., the internal layer in the case of our problem at hand), and to be coarsened in those areas where essentially nothing relevant happens (e.g., those areas away from the internal layer)."
   ],
   "metadata": {}
  },
  {
   "cell_type": "markdown",
   "source": [
    "In order to support AMR techniques, `GridapP4est.jl` relies on the so-called forest-of-trees approach for efficient mesh generation and adaptation as provided by the `p4est` library [2]. Forest-of-trees can be seen as a two-level decomposition of $\\Omega$, referred to as macro and micro level, resp. In the macro level, we have the so-called coarse mesh, i.e., a *conforming* partition $\\mathcal{C}_h$ of $\\Omega$. For efficiency reasons, $\\mathcal{C}_h$ should be as coarse as possible, but it should also keep the geometrical discretization error within tolerable margins. For complex domains, $\\mathcal{C}_h$ is usually generated by an unstructured mesh generator, and then imported into the program using, e.g., using `GridapGmsh`. For simple domains, such as boxes, a single coarse cell is sufficient to resolve the geometry of $\\Omega$. On the other hand, in the micro level, each of the cells of $\\mathcal{C}_h$ becomes the root of an adaptive tree that can be subdivided arbitrarily (i.e., recursively refined) into finer cells."
   ],
   "metadata": {}
  },
  {
   "cell_type": "markdown",
   "source": [
    "In the case of quadrilateral (2D) or hexahedral (3D) adaptive meshes, the recursive application of the standard isotropic 1:4 (2D) and 1:8 (3D) refinement rule to the coarse mesh cells (i.e., to the adaptive tree roots) leads to adaptive trees that are referred to as quadtrees and octrees, resp., and the data structure resulting from patching them together is called *forest-of-quadtrees* and *-octrees*, resp., although the latter term is typically employed in either case. The figure below shows a forest-of-quadtrees mesh with two quadtrees (i.e., $|\\mathcal{C}_h|=2$):"
   ],
   "metadata": {}
  },
  {
   "cell_type": "markdown",
   "source": [
    "![](../figures/darcy_amr/forest_of_trees_partition.png)"
   ],
   "metadata": {}
  },
  {
   "cell_type": "markdown",
   "source": [
    "Tree-based meshes provide multi-resolution capability by local adaptation. The cells in the mesh (i.e., the leaves of the adaptive trees) might be located at different refinement level.  However, these meshes are (potentially)  *non-conforming*, i.e., they contain the so-called *hanging* vertices, edges, and faces.  These occur at the interface of neighboring cells with different refinement levels. Mesh non-conformity introduces additional complexity in the implementation of conforming finite element formulations [3].  Despite the aforementioned, we note the following. First, the degree of implementation complexity is significantly reduced by enforcing the so-called *2:1 balance* constraint, i.e., adjacent cells may differ at most by a single level of refinement; the $h$-adaptive triangulation in `GridapP4est.jl` always satisfies this constraint. Second, `Gridap` is written such that it is entirely responsible for handling such complexity. As demonstrated in this tutorial, library users are not aware of mesh non-conformity when coding the weak form of the finite element formulation at hand."
   ],
   "metadata": {}
  },
  {
   "cell_type": "markdown",
   "source": [
    "## Parallelization"
   ],
   "metadata": {}
  },
  {
   "cell_type": "markdown",
   "source": [
    "It order to scale finite element simulations to large core counts, the adaptive mesh must be partitioned (distributed) among the parallel tasks such that each of these only holds a local portion of the global mesh. (The same requirement applies to the rest of data structures in the finite element simulation pipeline, i.e., finite element space, linear system, solver, etc.) Besides, as the solution might exhibit highly localized features, dynamic mesh adaptation can result in an unacceptable amount of load imbalance. Thus, it urges that the adaptive mesh data structure supports *dynamic load-balancing*, i.e., that it can be re-distributed among the parallel processes in the course of the simulation."
   ],
   "metadata": {}
  },
  {
   "cell_type": "markdown",
   "source": [
    "Modern forest-of-trees manipulation engines, such as `p4est`, provide a scalable, linear runtime solution to the mesh (re-)partitioning problem based on the exploitation of Space-Filling-Curves (SFCs). SFCs provide a natural means to assign an ordering of the forest-of-trees leaves, which is exploited for the parallel arrangement of data. For example, in `GridapP4est.jl`, the forest-of-octrees leaves are arranged in a global one-dimensional data array in increasing Morton index ordering. This ordering corresponds geometrically with the traversal of a $z$-shaped SFC (a.k.a. Morton SFC). This approach allows for *fast dynamic repartitioning*. A partition of the mesh is simply generated by dividing the leaves in the linear ordering induced by the SFCs into as many equally-sized segments as parallel tasks involved in the computation."
   ],
   "metadata": {}
  },
  {
   "cell_type": "markdown",
   "source": [
    "As an illustration, the figure below shows a 2:1 balanced forest-of-quadtrees mesh with two quadtrees (i.e., $|\\mathcal{C}_h|=2$) distributed among two processors, 1:4 refinement and the Morton SFC. Local cells are depicted with continuous boundary lines, while those in the ghost layer with dashed ones."
   ],
   "metadata": {}
  },
  {
   "cell_type": "markdown",
   "source": [
    "![](../figures/darcy_amr/forest_of_trees.png)"
   ],
   "metadata": {}
  },
  {
   "cell_type": "markdown",
   "source": [
    "`GridapP4est.jl` reconstructs the local portion of the mesh corresponding to each parallel task from the distributed forest-of-octrees that the `p4est` library handles internally. These local portions are illustrated in the figure above when the forest-of-octrees is distributed among two processors. The local portion of each task is composed by a set of cells that it owns, i.e., the *local cells* of the task, and a set of off-processor cells (owned by remote processors) which are in touch with its local cells, i.e., the *ghost cells* of the task. This overlapped mesh partition is used by the library to exchange data among nearest neighbours, and to glue together the global degrees-of-freedom of the finite element space which are sitting on the interface among subdomains, as required in order to construct finite element spaces for conforming finite element formulations in a distributed setting."
   ],
   "metadata": {}
  },
  {
   "cell_type": "markdown",
   "source": [
    "## The commented code"
   ],
   "metadata": {}
  },
  {
   "cell_type": "markdown",
   "source": [
    "We first start as usual by importing the packages we will need:"
   ],
   "metadata": {}
  },
  {
   "outputs": [],
   "cell_type": "code",
   "source": [
    "using DrWatson\n",
    "using Gridap\n",
    "using PartitionedArrays\n",
    "using GridapDistributed\n",
    "using GridapP4est\n",
    "using MPI"
   ],
   "metadata": {},
   "execution_count": null
  },
  {
   "cell_type": "markdown",
   "source": [
    "Then we define the manufactured data for our problem, i.e., $p_{\\rm exact}$, $u_{\\rm exact}$,\n",
    "and the right hand side $f$ of the mass conservation equation:"
   ],
   "metadata": {}
  },
  {
   "outputs": [],
   "cell_type": "code",
   "source": [
    "γ, r, xc = 100.0, 0.7, VectorValue(-0.05, -0.05)\n",
    "p_exact(x) = atan(γ * (sqrt((x[1] - xc[1])^2 + (x[2] - xc[2])^2) - r))\n",
    "u_exact(x) = -∇(p_exact)(x)\n",
    "f(x) = (∇⋅u_exact)(x)"
   ],
   "metadata": {},
   "execution_count": null
  },
  {
   "cell_type": "markdown",
   "source": [
    "For convenience, we define a function `solve_darcy` which performs some of the steps of\n",
    "the finite element simulation pipeline (namely finite element spaces setup,\n",
    "assembly and solution of linear system). We will later re-use this function at\n",
    "at each mesh of the AMR hierarchy:"
   ],
   "metadata": {}
  },
  {
   "outputs": [],
   "cell_type": "code",
   "source": [
    "function solve_darcy(model,order)\n",
    "  V = FESpace(model,\n",
    "              ReferenceFE(raviart_thomas,Float64,order),\n",
    "              conformity=:Hdiv)\n",
    "\n",
    "  Q = FESpace(model,\n",
    "              ReferenceFE(lagrangian,Float64,order);\n",
    "              conformity=:L2)\n",
    "\n",
    "  U = TrialFESpace(V,u_exact)\n",
    "  P = TrialFESpace(Q)\n",
    "\n",
    "  Y = MultiFieldFESpace([V, Q])\n",
    "  X = MultiFieldFESpace([U, P])\n",
    "\n",
    "  trian = Triangulation(model)\n",
    "  degree = 2*(order+1)\n",
    "  dΩ = Measure(trian,degree)\n",
    "\n",
    "  Γ = BoundaryTriangulation(model)\n",
    "  dΓ = Measure(Γ,degree)\n",
    "  nΓ = get_normal_vector(Γ)\n",
    "\n",
    "  a((u, p),(v, q)) = ∫(u⋅v)dΩ +∫(q*(∇⋅u))dΩ-∫((∇⋅v)*p)dΩ\n",
    "  b((v, q)) = ∫(q*f)dΩ-∫((v⋅nΓ)*p_exact )dΓ\n",
    "\n",
    "  op = AffineFEOperator(a,b,X,Y)\n",
    "  xh = solve(op)\n",
    "  xh, num_free_dofs(Y)\n",
    "end"
   ],
   "metadata": {},
   "execution_count": null
  },
  {
   "cell_type": "markdown",
   "source": [
    "At this point you should be already familiar with the steps in the `solve_darcy` function. It worths noting that we create `V`, i.e., the finite element space for the fluid velocity, such that it is div-conforming. To this end, as mentioned above, we use the `raviart_thomas` finite element, and specify the `conformity` of the space to be `:Hdiv`."
   ],
   "metadata": {}
  },
  {
   "cell_type": "markdown",
   "source": [
    "For convenience, we also define a function to compute the errors among the finite element solution and the exact solution. We will be also using the function at each level of the AMR hierarchy."
   ],
   "metadata": {}
  },
  {
   "outputs": [],
   "cell_type": "code",
   "source": [
    "function compute_error_darcy(model,order,xh)\n",
    "  Ω = Triangulation(model)\n",
    "  degree = 4*(order+1)\n",
    "  dΩ = Measure(Ω,degree)\n",
    "\n",
    "  Γ = BoundaryTriangulation(model)\n",
    "  degree = 2*(order+1)\n",
    "  dΓ = Measure(Γ,degree)\n",
    "  nΓ = get_normal_vector(Γ)\n",
    "\n",
    "  uh, ph = xh\n",
    "  eu = u_exact - uh\n",
    "  ep = p_exact - ph\n",
    "\n",
    "  l2_norm(v)   = sqrt(sum(∫(v⋅v)dΩ))\n",
    "  hdiv_norm(v) = sqrt(sum(∫(v⋅v + (∇⋅v)*(∇⋅v))dΩ))\n",
    "\n",
    "  l2_norm(eu), hdiv_norm(eu), l2_norm(ep)\n",
    "end"
   ],
   "metadata": {},
   "execution_count": null
  },
  {
   "cell_type": "markdown",
   "source": [
    "For visualization purposes, we define a function which, given a distributed discrete model,\n",
    "returns a distributed cell array which contains the parallel task identifier that owns\n",
    "each cell. If we visualize such array in ParaView, we will be able to observe how the mesh\n",
    "has been partitioned among parallel tasks"
   ],
   "metadata": {}
  },
  {
   "outputs": [],
   "cell_type": "code",
   "source": [
    "function get_cell_to_parallel_task(model)\n",
    "  model_partition_descriptor=partition(get_cell_gids(model))\n",
    "  map(model_partition_descriptor) do indices\n",
    "    own_to_owner(indices)\n",
    "  end\n",
    "end"
   ],
   "metadata": {},
   "execution_count": null
  },
  {
   "cell_type": "markdown",
   "source": [
    "The next step is to create the coarse mesh $\\mathcal{C}_h$. As $\\Omega$ is just the unit square in our particular case, a `CartesianDiscreteModel` with a single cell is sufficient to resolve the geometry of $\\Omega$:"
   ],
   "metadata": {}
  },
  {
   "outputs": [],
   "cell_type": "code",
   "source": [
    "coarse_model=CartesianDiscreteModel((0,1,0,1),(1,1))"
   ],
   "metadata": {},
   "execution_count": null
  },
  {
   "cell_type": "markdown",
   "source": [
    "We stress, however, that we may import as well a coarse mesh generated from an unstructured mesh generator, e.g., using `GridapGmsh`, as we have done in other tutorials."
   ],
   "metadata": {}
  },
  {
   "cell_type": "markdown",
   "source": [
    "As with any parallel distributed memory code in the Gridap ecosystem,\n",
    "we have to create our distributed rank indices. Using the `MPI` julia package,\n",
    "we can query for the number of MPI tasks with which we spawned the parallel\n",
    "program. In particular, the `MPI.Comm_size` function provides such functionality."
   ],
   "metadata": {}
  },
  {
   "outputs": [],
   "cell_type": "code",
   "source": [
    "MPI.Init()\n",
    "nprocs = MPI.Comm_size(MPI.COMM_WORLD)\n",
    "ranks  = with_mpi() do distribute\n",
    "  distribute(LinearIndices((prod(nprocs),)))\n",
    "end"
   ],
   "metadata": {},
   "execution_count": null
  },
  {
   "cell_type": "markdown",
   "source": [
    "Once we have created the coarse mesh and the `rank` indices, we are ready to\n",
    "create the forest-of-quadtrees `DiscreteModel`. We do it by specifying how many\n",
    "steps of uniform refinement steps we want to apply to the coarse mesh. We note that\n",
    "the resulting mesh is already distributed/partitioned among the parallel tasks:"
   ],
   "metadata": {}
  },
  {
   "outputs": [],
   "cell_type": "code",
   "source": [
    "num_uniform_refinement_steps=4\n",
    "model=OctreeDistributedDiscreteModel(ranks,coarse_model,num_uniform_refinement_steps)"
   ],
   "metadata": {},
   "execution_count": null
  },
  {
   "cell_type": "markdown",
   "source": [
    "Once we have created an inital forest-of-quadtrees, we will dynamically build a hierarchy\n",
    "of successively adapted meshes by exploiting the knowledge of the approximate solution\n",
    "computed at each level. This iterative process, which we will refer to as AMR loop, can be\n",
    "summarized as follows:"
   ],
   "metadata": {}
  },
  {
   "cell_type": "markdown",
   "source": [
    "1. Compute an approximate finite element solution $(u_h,p_h)$ for the Darcy problem using the current mesh.\n",
    "2. Compute $e_K$ for all cells $K$ in the mesh using $(u_h,p_h)$. In general, $e_K$ is an error indicator such as, e.g., an a-posteriori error estimator [4]. In this particular tutorial, as we know the true solution $u_{\\rm exact}$,  we will use the true error norm $e_K=||u_h-u_{\\rm exact}||_{L^2(K)}$ instead.\n",
    "3. Given user-defined refinement and coarsening fractions, denoted by $\\alpha_r$ and $\\alpha_c$, resp., find thresholds $\\theta_r$ and $\\theta_c$ such that the number of cells with $e_K >\\theta_r$  (resp., $e_K < \\theta_c$)  is (approximately) a fraction $\\alpha_r$  (resp., $\\alpha_c$) of the number of cells in the mesh.\n",
    "4. Refine and coarsen the mesh cells, i.e., generate a new mesh,  accordingly to the input provided by the previous step.\n",
    "5. (Optionally) Dynamically balance load among the parallel tasks.\n",
    "6. Repeat steps 1.-5. a number of user-defined steps."
   ],
   "metadata": {}
  },
  {
   "cell_type": "markdown",
   "source": [
    "This algorithm is encompassed in the `amr_loop` function below:"
   ],
   "metadata": {}
  },
  {
   "outputs": [],
   "cell_type": "code",
   "source": [
    "function amr_loop(model, order, num_amr_steps, αr, αc;\n",
    "                  generate_vtk_files=true, redistribute_load=true)\n",
    "\n",
    "  adaptive_strategy=\n",
    "      FixedFractionAdaptiveFlagsMarkingStrategy(αr, αc)\n",
    "\n",
    "  ndofs_x_level=Int[]\n",
    "  l2eu_x_level=Float64[]\n",
    "  hdiveu_x_level=Float64[]\n",
    "  l2pe_x_level=Float64[]\n",
    "\n",
    "  dir = datadir(\"darcy-amr\")\n",
    "  i_am_main(ranks) && !isdir(dir) && mkdir(dir)\n",
    "  for amr_step = 0:num_amr_steps\n",
    "    # Solve the finite element problem in the current mesh\n",
    "    xh,ndofs = solve_darcy(model,order)\n",
    "\n",
    "    if (generate_vtk_files)\n",
    "      file  = dir*\"/results_amr_order=$(order)_step_$(amr_step)\"\n",
    "      uh,ph = xh\n",
    "      writevtk(Triangulation(model),\n",
    "               file,\n",
    "               cellfields=[\"uh\"=>uh,\n",
    "                           \"ph\"=>ph,\n",
    "                           \"euh\"=>u_exact-uh,\n",
    "                           \"eph\"=>p_exact-ph,\n",
    "                           \"partition\"=>get_cell_to_parallel_task(model)])\n",
    "    end\n",
    "\n",
    "    # Compute error among finite element solution and exact solution\n",
    "    l2eu,hdiveu,l2ep=compute_error_darcy(model,order,xh)\n",
    "    append!(l2eu_x_level,l2eu)\n",
    "    append!(hdiveu_x_level,hdiveu)\n",
    "    append!(l2pe_x_level,l2ep)\n",
    "    append!(ndofs_x_level,ndofs)\n",
    "\n",
    "    # Compute error indicators e_K\n",
    "    uh,ph = xh\n",
    "    euh = u_exact-uh\n",
    "    eph = p_exact-ph\n",
    "    Ω = Triangulation(model)\n",
    "    dΩ = Measure(Ω,2*order+1)\n",
    "    e_K = map(dc -> sqrt.(get_array(dc)), local_views(∫(euh⋅euh)dΩ))\n",
    "\n",
    "    # Get object which describes how the mesh is partitioned/distributed among parallel tasks\n",
    "    model_partition_descriptor=partition(get_cell_gids(model))\n",
    "\n",
    "    # Create/initialize adaptivity flags\n",
    "    ref_coarse_flags = map(model_partition_descriptor) do indices\n",
    "      flags = Vector{Int64}(undef, length(indices))\n",
    "      flags .= nothing_flag\n",
    "    end\n",
    "\n",
    "    # Determine which cells are marked for refinement/coarsening\n",
    "    update_adaptivity_flags!(ref_coarse_flags,\n",
    "                             adaptive_strategy,\n",
    "                             model_partition_descriptor,\n",
    "                             e_K)\n",
    "\n",
    "    # Adapt the model given the adaptivity flags\n",
    "    model,_= adapt(model, ref_coarse_flags)\n",
    "\n",
    "    if (amr_step != num_amr_steps && redistribute_load)\n",
    "      # Dynamically redistribute the model among parallel tasks\n",
    "      model,_= redistribute(model)\n",
    "    end\n",
    "  end\n",
    "  model,ndofs_x_level,l2eu_x_level,hdiveu_x_level,l2pe_x_level\n",
    "end"
   ],
   "metadata": {},
   "execution_count": null
  },
  {
   "cell_type": "markdown",
   "source": [
    "The `amr_loop` function re-uses the previously defined functions along with functionality available in `GridapP4est.jl` to implement the 6 steps enumerated above. The `FixedFractionAdaptiveFlagsMarkingStrategy` constructor creates a Julia object which conceptually represents the strategy in step 3. Combining this object with the cell-wise error indicators $e_K$, the `update_adaptivity_flags!` function determines which cells to be refined, which to coarsen, and which to leave as they were prior to adaptation (as per described in step 3.). Finally, the `adapt` function adapts the mesh using the flags, and the `redistribute` function dynamically balances the load among the MPI tasks to correct for the imbalances caused by mesh adaptation."
   ],
   "metadata": {}
  },
  {
   "cell_type": "markdown",
   "source": [
    "It is worth noting that both the `adapt` and `redistribute` functions return a second object apart from the transformed discrete model. These objects are referenced by a place holder variable named  `_` which is not further used in the function. We note, however, that these objects encode relevant information that allows one to describe how the original and the transformed models are related. This is particularly necessary when dealing with transient and/or non-linear problems, where one has to transfer data (e.g., finite element functions) among meshes. For simplicity, this feature is not illustrated in the tutorial."
   ],
   "metadata": {}
  },
  {
   "cell_type": "markdown",
   "source": [
    "We then call the `amr_loop` function with `αr=0.1` and `αc=0.05` meaning that approximately 15% and 5% of the cells will approximately be refined and coarsened, respectively, at each adaptation step."
   ],
   "metadata": {}
  },
  {
   "outputs": [],
   "cell_type": "code",
   "source": [
    "order=1\n",
    "αr=0.10\n",
    "αc=0.05\n",
    "num_amr_steps=10\n",
    "final_model,ndofss,l2ues,hdivues,l2pes=amr_loop(model, order, num_amr_steps, αr, αc;\n",
    "                                                generate_vtk_files=true, redistribute_load=true)"
   ],
   "metadata": {},
   "execution_count": null
  },
  {
   "cell_type": "markdown",
   "source": [
    "After execution, the function generates data visualization files plus the L2 and Hdiv errors of the discrete fluid flow and the L2 error of the discrete fluid velocity at each AMR level. At this point, we encourage the reader to open these files in ParaView and observe that, as expected, there is a clear tendency of the algorithm to adapt the mesh in the region where the circular wave front is located. The reader may also want to observe how the partition of the mesh among cells varies among levels in order to correct for the parallel load imbalances caused by mesh adaptation."
   ],
   "metadata": {}
  },
  {
   "cell_type": "markdown",
   "source": [
    "As usual, it is helpful to visualize how errors decay with the number of degrees of freedom as the mesh is adapted across several adaptation cycles. The following code generates a plot and writes it into a PDF file in the parallel task with identifier 0."
   ],
   "metadata": {}
  },
  {
   "outputs": [],
   "cell_type": "code",
   "source": [
    "if i_am_main(ranks)\n",
    "  using Plots\n",
    "  plt = plot(xlabel=\"ndofs\",ylabel=\"L2 error (fluid velocity)\",grid=true)\n",
    "  plot!(plt,title=\"γ=$(γ), r=$(r), center=$(xc)\", yaxis=:log10, xaxis=:log10, linewidth=3)\n",
    "  plot!(plt,ndofss,l2ues,label=\"order=$(order) AMR\",markershape=:s,markersize=6)\n",
    "\n",
    "  dir = datadir(\"darcy-amr\")\n",
    "  !isdir(dir) && mkdir(dir)\n",
    "  filename = datadir(\"darcy-amr/amr_error_decay_l2eu_order=$(order).pdf\")\n",
    "  savefig(plt, filename)\n",
    "end"
   ],
   "metadata": {},
   "execution_count": null
  },
  {
   "cell_type": "markdown",
   "source": [
    "## Homework\n",
    "* Deactivate `redistributed_load` in the `amr_loop` function call. Then, observe in ParaView the load distribution among parallel tasks, and compare it against the one in which the load is re-balanced at each step.\n",
    "* Extend the code such that it compares error decay between uniform refinement and AMR.\n",
    "* Study error decay of `order=0` versus `order=1`.\n",
    "* Study error decay and refinement patterns for different values of $\\gamma$, $\\alpha_r$, $\\alpha_c$.\n",
    "* Extend the present tutorial to 3D."
   ],
   "metadata": {}
  },
  {
   "cell_type": "markdown",
   "source": [
    "## References\n",
    "\n",
    "[1] F. Brezzi and M. Fortin. *Mixed and hybrid finite element methods*. Springer-Verlag, 1991."
   ],
   "metadata": {}
  },
  {
   "cell_type": "markdown",
   "source": [
    "[2] C. Burstedde, L. C. Wilcox, O. Ghattas. *p4est: Scalable Algorithms for Parallel Adaptive Mesh Refinement on Forests of Octrees*. SIAM Journal on Scientific Computing 33 (3) (2011)."
   ],
   "metadata": {}
  },
  {
   "cell_type": "markdown",
   "source": [
    "[3] S. Badia, A. F. Martin, E. Neiva, and F. Verdugo. *A Generic Finite Element Framework on Parallel Tree-Based Adaptive Meshes*. SIAM Journal on Scientific Computing 46 (2) (2020)."
   ],
   "metadata": {}
  },
  {
   "cell_type": "markdown",
   "source": [
    "[4] M. Ainsworth, J. T. Oden. *A Posteriori Error Estimation in Finite Element Analysis.*. John Wiley & Sons, 2000."
   ],
   "metadata": {}
  }
 ],
 "nbformat_minor": 3,
 "metadata": {
  "language_info": {
   "file_extension": ".jl",
   "mimetype": "application/julia",
   "name": "julia",
   "version": "1.9.1"
  },
  "kernelspec": {
   "name": "julia-1.9",
   "display_name": "Julia 1.9.1",
   "language": "julia"
  }
 },
 "nbformat": 4
}
