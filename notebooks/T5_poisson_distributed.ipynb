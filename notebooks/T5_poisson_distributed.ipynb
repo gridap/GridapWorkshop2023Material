{
 "cells": [
  {
   "cell_type": "markdown",
   "source": [
    "In this tutorial, we will use the MPI-emulated environment provided by `DebugArray` to interactively have a look at some key aspects of how `GridapDistributed` works."
   ],
   "metadata": {}
  },
  {
   "cell_type": "markdown",
   "source": [
    "## Setup\n",
    "\n",
    "We will be using three packages:\n",
    "  - `Gridap`, which provides the local FE framework\n",
    "  - `PartitionedArrays`, which provides a generic library for MPI-distributed linear algebra\n",
    "  - `GridapDistributed`, which provides the distributed layer on top of `Gridap`"
   ],
   "metadata": {}
  },
  {
   "outputs": [],
   "cell_type": "code",
   "source": [
    "using Gridap\n",
    "using GridapDistributed\n",
    "using PartitionedArrays"
   ],
   "metadata": {},
   "execution_count": null
  },
  {
   "cell_type": "markdown",
   "source": [
    "We start by creating our distributed rank indices, which plays the role of the more traditional communicator (such as MPI.COMM_WORLD)."
   ],
   "metadata": {}
  },
  {
   "outputs": [],
   "cell_type": "code",
   "source": [
    "nprocs = (2,1)\n",
    "ranks  = with_debug() do distribute\n",
    "  distribute(LinearIndices((prod(nprocs),)))\n",
    "end"
   ],
   "metadata": {},
   "execution_count": null
  },
  {
   "cell_type": "markdown",
   "source": [
    "## Distributed meshes and spaces\n",
    "\n",
    "We can create a distributed Cartesian model by passing the newly-created ranks to the serial constructor. Thanks to Julia's multiple-dispatch, this is pretty much the only change we will have to do to convert a serial Gridap code into a GridapDistributed code."
   ],
   "metadata": {}
  },
  {
   "outputs": [],
   "cell_type": "code",
   "source": [
    "domain = (0,1,0,1)\n",
    "ncells = (4,2)\n",
    "serial_model = CartesianDiscreteModel(domain,ncells)\n",
    "\n",
    "model = CartesianDiscreteModel(ranks,nprocs,domain,ncells)"
   ],
   "metadata": {},
   "execution_count": null
  },
  {
   "cell_type": "markdown",
   "source": [
    "The created `DistributedDiscreteModel` is just a wrapper around a distributed array of serial models. One can get access to the local models with the method `local_views`, which is defined for most distributed structures in `GridapDistributed`."
   ],
   "metadata": {}
  },
  {
   "outputs": [],
   "cell_type": "code",
   "source": [
    "local_models = local_views(model)\n",
    "display(local_models)"
   ],
   "metadata": {},
   "execution_count": null
  },
  {
   "cell_type": "markdown",
   "source": [
    "A key aspect in parallel programming is the concept of owned & ghost ids. If we compare the number of cells of the distributed model to the number of cells of the local model portions, we can observe that the local models overlap:"
   ],
   "metadata": {}
  },
  {
   "outputs": [],
   "cell_type": "code",
   "source": [
    "global_ncells = num_cells(model)\n",
    "local_ncells  = map(num_cells,local_views(model))"
   ],
   "metadata": {},
   "execution_count": null
  },
  {
   "cell_type": "markdown",
   "source": [
    "This overlap is due to ghost cells. The Owned/Ghost layout of the current distributed model can be seen in the next figure:\n",
    "\n",
    "![](../figures/distributed/gids_cells.png)\n",
    "\n",
    "\n",
    "This information is also stored on the distributed model, and can be accessed in the following way:"
   ],
   "metadata": {}
  },
  {
   "outputs": [],
   "cell_type": "code",
   "source": [
    "cell_gids = get_cell_gids(model)\n",
    "local_cell_to_global_cell = map(local_to_global,partition(cell_gids))\n",
    "local_cell_to_owner       = map(local_to_owner,partition(cell_gids))\n",
    "owned_cell_to_local_cell  = map(own_to_local,partition(cell_gids))\n",
    "ghost_cell_to_local_cell  = map(ghost_to_local,partition(cell_gids))"
   ],
   "metadata": {},
   "execution_count": null
  },
  {
   "cell_type": "markdown",
   "source": [
    "For each processor, we have\n",
    "  - `local_to_global` - map from local cell ids to global cell ids\n",
    "  - `local_to_owner`  - map from local cell ids to the processor id of the cell owner\n",
    "  - `own_to_local`    - list of owned local cells\n",
    "  - `ghost_to_local`  - list of ghost local cells\n",
    "More documentation on this can be found in PartitionedArrays.jl"
   ],
   "metadata": {}
  },
  {
   "cell_type": "markdown",
   "source": [
    "We can then continue by creating a `DistributedFESpace`, which (like `DistributedDiscreteModel`) is a structure that contains:\n",
    "  - A distributed array of serial (overlapped) `FESpace`s\n",
    "  - The Owned/Ghost layout for the DoFs\n",
    "In this specific example here, and just for clarity, we do not impose any Dirichlet boundary conditions. Since the Poisson problem is defined up to a constant, and therefore is not uniquely defined without any Dirichlet boundary conditions, the problem will not be well-posed. However, this is not a problem for the purpose of this tutorial."
   ],
   "metadata": {}
  },
  {
   "outputs": [],
   "cell_type": "code",
   "source": [
    "feorder = 1\n",
    "reffe = ReferenceFE(lagrangian,Float64,feorder)\n",
    "V = FESpace(model,reffe)\n",
    "U = TrialFESpace(V)"
   ],
   "metadata": {},
   "execution_count": null
  },
  {
   "cell_type": "markdown",
   "source": [
    "The DoF layout can be seen in the following figure\n",
    "\n",
    "![](../figures/distributed/gids_dofs.png)\n",
    "\n",
    "and can be accessed as follows:"
   ],
   "metadata": {}
  },
  {
   "outputs": [],
   "cell_type": "code",
   "source": [
    "dof_gids = V.gids\n",
    "local_dofs_to_global_dof = map(local_to_global,partition(dof_gids))\n",
    "local_dofs_to_owner      = map(local_to_owner,partition(dof_gids))\n",
    "owned_dofs_to_local_dof  = map(own_to_local,partition(dof_gids))\n",
    "ghost_dofs_to_local_dof  = map(ghost_to_local,partition(dof_gids))"
   ],
   "metadata": {},
   "execution_count": null
  },
  {
   "cell_type": "markdown",
   "source": [
    "## Solving the linear system\n",
    "\n",
    "We can now define the weak form and integrate as usual:"
   ],
   "metadata": {}
  },
  {
   "outputs": [],
   "cell_type": "code",
   "source": [
    "degree = 2*order\n",
    "Ω = Triangulation(model)\n",
    "dΩ = Measure(Ω,degree)\n",
    "\n",
    "f(x)   = cos(x[1])\n",
    "a(u,v) = ∫( ∇(v)⋅∇(u) )*dΩ\n",
    "l(v)   = ∫( v*f )*dΩ\n",
    "\n",
    "op = AffineFEOperator(a,l,V,U)\n",
    "uh = solve(op)"
   ],
   "metadata": {},
   "execution_count": null
  },
  {
   "cell_type": "markdown",
   "source": [
    "Note that by default `solve` will use the Julia LU direct solver. In parallel, we provide a toy implementation that gathers the whole matrix into a single processor and solves the linear system there. This is not scalable, and should only be used for debugging/testing purposes.\n",
    "\n",
    "The design of scalable solvers is a very complex issue. Direct factorization solvers such as MUMPS or PARDISO can scale to a few hundred processors, but iterative preconditioned solvers are the only viable option for larger problems.\n",
    "\n",
    "As we will see in the next tutorial, Gridap provides interfaces to some of the most popular distributed linear algebra libraries, such as PETSc, through satellite packages. We are also in the process of providing Julia-native iterative solvers."
   ],
   "metadata": {}
  },
  {
   "cell_type": "markdown",
   "source": [
    "## Distributed linear algebra\n",
    "\n",
    "Let's take a moment to have a look at the distributed linear system: As usual, one can access the system matrix and rhs as"
   ],
   "metadata": {}
  },
  {
   "outputs": [],
   "cell_type": "code",
   "source": [
    "A  = get_matrix(op)\n",
    "b  = get_vector(op)"
   ],
   "metadata": {},
   "execution_count": null
  },
  {
   "cell_type": "markdown",
   "source": [
    "We observe $A$ and $b$ are now of type `PSparseMatrix` and `PVector`, respectively. These represent distributed equivalents of the serial `SparseMatrix` and `Vector` types. Each object holds their local part of the array (both owned and ghost indices) and information on the Owned/Ghost layout for their rows (and columns).\n",
    "\n",
    "The local sub-matrices and sub-vectors can be accessed as follows:"
   ],
   "metadata": {}
  },
  {
   "outputs": [],
   "cell_type": "code",
   "source": [
    "local_mats = partition(A)\n",
    "owned_mats = own_values(A)\n",
    "\n",
    "local_vectors = partition(b)\n",
    "owned_vectors = own_values(b)"
   ],
   "metadata": {},
   "execution_count": null
  },
  {
   "cell_type": "markdown",
   "source": [
    "Here, `local_mats` and `local_vectors` contain the sub-matrices and sub-vectors for all the local DoFs (owned and ghost, with overlapping between processors), while `owned_mats` and `owned_vectors` contain the sub-matrices and sub-vectors for the owned DoFs only (no overlapping).\n",
    "\n",
    "The row/column layout of the `PSparseMatrix` can be accessed as follows:"
   ],
   "metadata": {}
  },
  {
   "outputs": [],
   "cell_type": "code",
   "source": [
    "rows = axes(A,1)\n",
    "cols = axes(A,2)"
   ],
   "metadata": {},
   "execution_count": null
  },
  {
   "cell_type": "markdown",
   "source": [
    "If we compare them to the DoF layout from the original space $V$, we can see a couple major differences:"
   ],
   "metadata": {}
  },
  {
   "outputs": [],
   "cell_type": "code",
   "source": [
    "owned_dofs_to_local_dof  = map(own_to_local,partition(dof_gids))\n",
    "ghost_dofs_to_local_dof  = map(ghost_to_local,partition(dof_gids))\n",
    "\n",
    "owned_rows_to_local_row  = map(own_to_local,partition(rows))\n",
    "ghost_rows_to_local_row  = map(ghost_to_local,partition(rows))"
   ],
   "metadata": {},
   "execution_count": null
  },
  {
   "cell_type": "markdown",
   "source": [
    "First, the owned DoFs are not necessarily the first ones in the global ordering. However, owned rows are always the first ones in the global ordering. This reordering is done to comply with the standards set by other distributed linear algebra libraries, such as PETSc.\n",
    "\n",
    "Second, the number of ghosts in the dof layout is higher than the number of ghosts in the row layout. This is because the row layout only contains the ghosts indices that are needed to compute the local matrix-vector product.\n",
    "\n",
    "What we take away from this is that we cannot use a `PVector` of DoFs to solve the linear system and viceversa (which is what we generally do in serial). Moreover, the ghost layout can also be different for the rows and columns. If we ever do this, we will get an error message:"
   ],
   "metadata": {}
  },
  {
   "outputs": [],
   "cell_type": "code",
   "source": [
    "x = get_free_dof_values(uh) # DoF layout\n",
    "A * x # Error!\n",
    "A * b # Error!"
   ],
   "metadata": {},
   "execution_count": null
  },
  {
   "cell_type": "markdown",
   "source": [
    "To allocate `PVectors` with a specific ghost layout, we can use the function `pfill`:"
   ],
   "metadata": {}
  },
  {
   "outputs": [],
   "cell_type": "code",
   "source": [
    "x_r = pfill(0.0,partition(axes(A,1))) # Row layout\n",
    "x_c = pfill(0.0,partition(axes(A,2))) # Col layout\n",
    "x_r .= A * x_c # OK"
   ],
   "metadata": {},
   "execution_count": null
  },
  {
   "cell_type": "markdown",
   "source": [
    "Despite this, we can use column and row `PVectors` to create `FEFunctions`. The index mapping will be taken care of by `GridapDistributed`, like so:"
   ],
   "metadata": {}
  },
  {
   "outputs": [],
   "cell_type": "code",
   "source": [
    "vh = FEFunction(V,x_c)"
   ],
   "metadata": {},
   "execution_count": null
  }
 ],
 "nbformat_minor": 3,
 "metadata": {
  "language_info": {
   "file_extension": ".jl",
   "mimetype": "application/julia",
   "name": "julia",
   "version": "1.9.1"
  },
  "kernelspec": {
   "name": "julia-1.9",
   "display_name": "Julia 1.9.1",
   "language": "julia"
  }
 },
 "nbformat": 4
}
