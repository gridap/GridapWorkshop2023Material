{
 "cells": [
  {
   "cell_type": "markdown",
   "source": [
    "## Problem statement\n",
    "\n",
    "The goal is to solve a nonlinear multi-field PDE. As a model problem, we consider a well known benchmark in computational fluid dynamics, the laminar flow around a cylinder for the incompressible Navier-Stokes equations. We will solve this problem by building on the concepts seen in the previous tutorials.\n",
    "\n",
    "The computational domain $\\Omega$ is a 2-dimensional channel. The fluid enters the channel from the left boundary (inlet) and exits through the right boundary (outlet). The channel has a cylindrical obstacle near the inlet. The domain can be seen in the following figure:\n",
    "\n",
    "![](../figures/ins/perforated_plate.png)\n",
    "\n",
    "We define $\\partial \\Omega = \\Gamma_{w} \\cup \\Gamma_{c} \\cup \\Gamma_{in} \\cup \\Gamma_{out}$ with $\\Gamma_{w}$ the top and bottom channel walls, $\\Gamma_{c}$ the cylinder walls, $\\Gamma_{in}$ the inlet and $\\Gamma_{out}$ the outlet.\n",
    "\n",
    "Formally, the PDE we want to solve is: find the velocity vector $u$ and the pressure $p$ such that\n",
    "\n",
    "$$\n",
    "\\left\\lbrace\n",
    "\\begin{aligned}\n",
    "-\\Delta u + \\mathit{Re}\\ (u\\cdot \\nabla)\\ u + \\nabla p = 0 &\\text{ in }\\Omega,\\\\\n",
    "\\nabla\\cdot u = 0 &\\text{ in } \\Omega,\\\\\n",
    "u = u_{in} &\\text{ on } \\Gamma_{in},\\\\\n",
    "u = 0 &\\text{ on } \\Gamma_{w} \\cup \\Gamma_{c},\\\\\n",
    "n_\\Gamma \\cdot \\sigma = 0 &\\text{ on } \\Gamma_{out},\\\\\n",
    "\\end{aligned}\n",
    "\\right.\n",
    "$$\n",
    "\n",
    "where $d=2$ , and $\\mathit{Re}$ is the Reynolds number.\n",
    "\n",
    "The inflow condition is given by\n",
    "\n",
    "$$\n",
    "u_{in}(0,y) = \\left( 4 U_{m} \\frac{y(H-y)}{H^2}, 0 \\right),\n",
    "$$\n",
    "\n",
    "with $U_{m}=0.3 \\ m/s$ the maximum velocity and $H = 0.41 \\ m$ the height of the channel.\n",
    "\n",
    "## Numerical Scheme\n",
    "\n",
    "In order to approximate this problem we choose a formulation based on inf-sup stable $P_{k}/P_{k-1}$ triangular elements with continuous velocities and pressures. The interpolation spaces are defined as follows. The velocity interpolation space is\n",
    "\n",
    "$$\n",
    "V \\doteq \\{ v \\in [H^1(\\Omega)]^d:\\ v|_T\\in [P_k(T)]^d \\text{ for all } T\\in\\mathcal{T} \\},\n",
    "$$\n",
    "\n",
    "where $T$ denotes an arbitrary cell of the FE mesh $\\mathcal{T}$, and $P_k(T)$ is the usual Lagrangian FE space of order $k$ defined on a mesh of triangles or tetrahedra.\n",
    "On the other hand, the space for the pressure is given by\n",
    "\n",
    "$$\n",
    "Q \\doteq \\{ q \\in C^0(\\Omega):\\ q|_T\\in P_{k-1}(T) \\text{ for all } T\\in\\mathcal{T}\\}.\n",
    "$$\n",
    "\n",
    "The weak form associated to these interpolation spaces reads: find $(u,p)\\in U_g \\times Q$ such that $[r(u,p)](v,q)=0$ for all $(v,q)\\in V_0 \\times Q$\n",
    "where $U_g$ and $V_0$ are the set of functions in $V$ fulfilling the Dirichlet boundary conditions and the homogeneous Dirichlet boundary conditions respectively. The weak residual $r$ evaluated at a given pair $(u,p)$ is the linear form defined as\n",
    "\n",
    "$$\n",
    "[r(u,p)](v,q) \\doteq a((u,p),(v,q))+ [c(u)](v),\n",
    "$$\n",
    "with\n",
    "$$\n",
    "\\begin{aligned}\n",
    "a((u,p),(v,q)) &\\doteq \\int_{\\Omega} \\nabla v \\cdot \\nabla u \\ {\\rm d}\\Omega - \\int_{\\Omega} (\\nabla\\cdot v) \\ p \\ {\\rm d}\\Omega + \\int_{\\Omega} q \\ (\\nabla \\cdot u) \\ {\\rm d}\\Omega,\\\\\n",
    "[c(u)](v) &\\doteq \\int_{\\Omega} v \t\\cdot \\left( (u\\cdot\\nabla)\\ u \\right)\\ {\\rm d}\\Omega.\\\\\n",
    "\\end{aligned}\n",
    "$$\n",
    "Note that the bilinear form $a$ is associated with the linear part of the PDE, whereas $c$ is the contribution to the residual resulting from the convective term.\n",
    "\n",
    "In order to solve this nonlinear weak equation with a Newton-Raphson method, one needs to compute the Jacobian associated with the residual $r$. In this case, the Jacobian $j$ evaluated at a pair $(u,p)$ is the bilinear form defined as\n",
    "\n",
    "$$\n",
    "[j(u,p)]((\\delta u, \\delta p),(v,q)) \\doteq a((\\delta u,\\delta p),(v,q))  + [{\\rm d}c(u)](\\delta u,v),\n",
    "$$\n",
    "where ${\\rm d}c$ results from the linearization of the convective term, namely\n",
    "$$\n",
    "[{\\rm d}c(u)](\\delta u,v) \\doteq \\int_{\\Omega} v \\cdot \\left( (u\\cdot\\nabla)\\ \\delta u \\right) \\ {\\rm d}\\Omega + \\int_{\\Omega} v \\cdot \\left( (\\delta u\\cdot\\nabla)\\ u \\right)  \\ {\\rm d}\\Omega.\n",
    "$$\n",
    "\n",
    "## Geometry\n",
    "\n",
    "We start by importing the packages and loading the provided mesh in the file `perforated_plate_tiny.msh`:"
   ],
   "metadata": {}
  },
  {
   "outputs": [],
   "cell_type": "code",
   "source": [
    "using Gridap, GridapGmsh\n",
    "using DrWatson\n",
    "\n",
    "msh_file = projectdir(\"meshes/perforated_plate_tiny.msh\")\n",
    "model = GmshDiscreteModel(msh_file)"
   ],
   "metadata": {},
   "execution_count": null
  },
  {
   "cell_type": "markdown",
   "source": [
    "### Exercise 1\n",
    "\n",
    "_Open the resulting files with ParaView. Visualize the faces of the model and color them by each of the available fields. Identify the tag names representing the boundaries $\\Gamma_{w}$ (top and bottom channel walls), $\\Gamma_{c}$ (cylinder walls), $\\Gamma_{in}$ (inlet) and $\\Gamma_{out}$ (outlet)._"
   ],
   "metadata": {}
  },
  {
   "outputs": [],
   "cell_type": "code",
   "source": [
    "writevtk(model,datadir(\"perforated_plate\"))"
   ],
   "metadata": {},
   "execution_count": null
  },
  {
   "cell_type": "markdown",
   "source": [
    "## FE Spaces\n",
    "\n",
    "### Exercise 2\n",
    "\n",
    "_Define the test `FESpaces` for velocity and pressure, as described above. The velocity space should be a vector-valued lagrangian space of order `k` with appropriate boundary conditions. The pressure space should be an unconstrained lagrangian space of order `k-1`._"
   ],
   "metadata": {}
  },
  {
   "outputs": [],
   "cell_type": "code",
   "source": [
    "D = 2\n",
    "k = 2\n",
    "reffeᵤ = ReferenceFE(lagrangian,VectorValue{D,Float64},k)\n",
    "V = TestFESpace(model,reffeᵤ,conformity=:H1,dirichlet_tags=[\"inlet\",\"walls\",\"cylinder\"])\n",
    "reffeₚ = ReferenceFE(lagrangian,Float64,k-1)\n",
    "Q = TestFESpace(model,reffeₚ,conformity=:C0)"
   ],
   "metadata": {},
   "execution_count": null
  },
  {
   "cell_type": "markdown",
   "source": [
    "### Exercise 3\n",
    "_Define the boundary conditions for velocity. You should define three functions `u_in`, `u_w` and `u_c` representing the prescribed dirichlet values at $\\Gamma_{in}$, $\\Gamma_w$ and $\\Gamma_c$ respectively._"
   ],
   "metadata": {}
  },
  {
   "outputs": [],
   "cell_type": "code",
   "source": [
    "const Uₘ = 0.3\n",
    "const H  = 0.41\n",
    "u_in(x) = VectorValue( 4 * Uₘ * x[2] * (H-x[2]) / (H^2), 0.0 )\n",
    "u_w(x)  = VectorValue(0.0,0.0)\n",
    "u_c(x)  = VectorValue(0.0,0.0)"
   ],
   "metadata": {},
   "execution_count": null
  },
  {
   "cell_type": "markdown",
   "source": [
    "### Exercise 4\n",
    "_Define the trial and test spaces for the velocity and pressure fields, as well as the corresponding multi-field spaces._"
   ],
   "metadata": {}
  },
  {
   "outputs": [],
   "cell_type": "code",
   "source": [
    "U = TrialFESpace(V,[u_in,u_w,u_c])\n",
    "P = TrialFESpace(Q)\n",
    "\n",
    "Y = MultiFieldFESpace([V, Q])\n",
    "X = MultiFieldFESpace([U, P])"
   ],
   "metadata": {},
   "execution_count": null
  },
  {
   "cell_type": "markdown",
   "source": [
    "## Nonlinear weak form and FE operator\n",
    "\n",
    "As usual, we start by defining the triangulations and measures we will need to define the weak form. In this case, we need to define the measure associate with the bulk $d\\Omega$, as well as the measure associated with the outlet boundary $\\Gamma_{out}$."
   ],
   "metadata": {}
  },
  {
   "outputs": [],
   "cell_type": "code",
   "source": [
    "degree = k\n",
    "Ω  = Triangulation(model)\n",
    "dΩ = Measure(Ω,degree)\n",
    "\n",
    "Γ_out = BoundaryTriangulation(model,tags=\"outlet\")\n",
    "n_Γout = get_normal_vector(Γ_out)\n",
    "dΓ_out = Measure(Γ_out,degree)"
   ],
   "metadata": {},
   "execution_count": null
  },
  {
   "cell_type": "markdown",
   "source": [
    "We also define the Reynolds number and functions to represent the convective term and its linearization."
   ],
   "metadata": {}
  },
  {
   "outputs": [],
   "cell_type": "code",
   "source": [
    "const Re = 20\n",
    "conv(u,∇u) = Re*(∇u')⋅u\n",
    "dconv(du,∇du,u,∇u) = conv(u,∇du)+conv(du,∇u)"
   ],
   "metadata": {},
   "execution_count": null
  },
  {
   "cell_type": "markdown",
   "source": [
    "### Exercise 5\n",
    "_Define the weak form for our problem. You should start by defining the bilinear forms $a$ and $c$ and the trilinear form $dc$. Then use these components to build the residual $r$ and the jacobian $j$._"
   ],
   "metadata": {}
  },
  {
   "outputs": [],
   "cell_type": "code",
   "source": [
    "a((u,p),(v,q)) = ∫( ∇(v)⊙∇(u) - (∇⋅v)*p + q*(∇⋅u) )dΩ\n",
    "\n",
    "c(u,v) = ∫( v⊙(conv∘(u,∇(u))) )dΩ\n",
    "dc(u,du,v) = ∫( v⊙(dconv∘(du,∇(du),u,∇(u))) )dΩ\n",
    "\n",
    "res((u,p),(v,q)) = a((u,p),(v,q)) + c(u,v)\n",
    "jac((u,p),(du,dp),(v,q)) = a((du,dp),(v,q)) + dc(u,du,v)"
   ],
   "metadata": {},
   "execution_count": null
  },
  {
   "cell_type": "markdown",
   "source": [
    "We can finally define the `FEOperator` as usual"
   ],
   "metadata": {}
  },
  {
   "outputs": [],
   "cell_type": "code",
   "source": [
    "op = FEOperator(res,jac,X,Y)"
   ],
   "metadata": {},
   "execution_count": null
  },
  {
   "cell_type": "markdown",
   "source": [
    "## Solver and solution\n",
    "\n",
    "### Exercise 6\n",
    "\n",
    "_Create a nonlinear Newton-Raphson solver and solve the problem. Print the solutions to a `.vtk` file and examine the obtained solution._"
   ],
   "metadata": {}
  },
  {
   "outputs": [],
   "cell_type": "code",
   "source": [
    "using LineSearches: BackTracking\n",
    "solver = NLSolver(show_trace=true, method=:newton, linesearch=BackTracking())\n",
    "\n",
    "uh, ph = solve(solver,op)\n",
    "\n",
    "out_file = datadir(\"ins\")\n",
    "writevtk(Ω,out_file,cellfields=[\"uh\"=>uh,\"ph\"=>ph])"
   ],
   "metadata": {},
   "execution_count": null
  },
  {
   "cell_type": "markdown",
   "source": [
    "## References\n",
    "\n",
    "This tutorial follows test case 2D-1 from (Schafer,1996)[https://link.springer.com/chapter/10.1007/978-3-322-89849-4_39]"
   ],
   "metadata": {}
  }
 ],
 "nbformat_minor": 3,
 "metadata": {
  "language_info": {
   "file_extension": ".jl",
   "mimetype": "application/julia",
   "name": "julia",
   "version": "1.9.1"
  },
  "kernelspec": {
   "name": "julia-1.9",
   "display_name": "Julia 1.9.1",
   "language": "julia"
  }
 },
 "nbformat": 4
}
