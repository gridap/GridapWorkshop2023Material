{
 "cells": [
  {
   "cell_type": "markdown",
   "source": [
    "The aim of this exercise will be to modify the Transient Incompressible Navier-Stokes driver to run in parallel, while doing so interactively using the debug-mode provided by `PartitionedArrays` and `GridapDistributed`."
   ],
   "metadata": {}
  },
  {
   "cell_type": "markdown",
   "source": [
    "We start by importing the libraries we will need:"
   ],
   "metadata": {}
  },
  {
   "outputs": [],
   "cell_type": "code",
   "source": [
    "using Gridap, GridapDistributed, GridapGmsh, PartitionedArrays\n",
    "using DrWatson"
   ],
   "metadata": {},
   "execution_count": null
  },
  {
   "cell_type": "markdown",
   "source": [
    "Next, we will create our distributed processor ranks, in debug mode:"
   ],
   "metadata": {}
  },
  {
   "outputs": [],
   "cell_type": "code",
   "source": [
    "np = 2\n",
    "ranks = with_debug() do distribute\n",
    "  distribute(LinearIndices((np,)))\n",
    "end"
   ],
   "metadata": {},
   "execution_count": null
  },
  {
   "cell_type": "markdown",
   "source": [
    "### Exercise 1\n",
    "\n",
    "_By using the code in the previous exercise, load the mesh from the file `perforated_plate_tiny.msh`. Distribute the mesh between different processors by passing `ranks` as an additional input to the constructor, i.e_\n",
    "```julia\n",
    "  model = GmshDiscreteModel(ranks,filename)\n",
    "```"
   ],
   "metadata": {}
  },
  {
   "outputs": [],
   "cell_type": "code",
   "source": [
    "msh_file = projectdir(\"meshes/perforated_plate_tiny.msh\")\n",
    "model = GmshDiscreteModel(ranks,msh_file)"
   ],
   "metadata": {},
   "execution_count": null
  },
  {
   "cell_type": "markdown",
   "source": [
    "### Exercise 2\n",
    "\n",
    "_By using the code in the previous exercise, define the boundary conditions and the trial and test finite-element spaces. The same code that worked in serial should work here as well_"
   ],
   "metadata": {}
  },
  {
   "outputs": [],
   "cell_type": "code",
   "source": [
    "k = 2\n",
    "reffeᵤ = ReferenceFE(lagrangian,VectorValue{2,Float64},k)\n",
    "reffeₚ = ReferenceFE(lagrangian,Float64,k-1)\n",
    "\n",
    "V = TestFESpace(model,reffeᵤ,conformity=:H1,dirichlet_tags=[\"inlet\",\"walls\",\"cylinder\"])\n",
    "Q = TestFESpace(model,reffeₚ,conformity=:C0)\n",
    "\n",
    "const Tth = 1\n",
    "const Uₘ = 1.5\n",
    "const H  = 0.41\n",
    "ξ(t) = (t <= Tth) ? sin(π*t/(2*Tth)) : 1.0\n",
    "u_in(x,t::Real) = VectorValue( 4 * Uₘ * x[2] * (H-x[2]) / (H^2) * ξ(t), 0.0 )\n",
    "u_w(x,t::Real)  = VectorValue(0.0,0.0)\n",
    "u_c(x,t::Real)  = VectorValue(0.0,0.0)\n",
    "u_in(t::Real)   = x -> u_in(x,t)\n",
    "u_w(t::Real)    = x -> u_w(x,t)\n",
    "u_c(t::Real)    = x -> u_c(x,t)\n",
    "\n",
    "\n",
    "U = TransientTrialFESpace(V,[u_in,u_w,u_c])\n",
    "P = TrialFESpace(Q)\n",
    "\n",
    "Y = MultiFieldFESpace([V, Q])\n",
    "X = TransientMultiFieldFESpace([U, P])"
   ],
   "metadata": {},
   "execution_count": null
  },
  {
   "cell_type": "markdown",
   "source": [
    "As usual, we define the triangulations and measures that we need to integrate:"
   ],
   "metadata": {}
  },
  {
   "outputs": [],
   "cell_type": "code",
   "source": [
    "degree = 2*k\n",
    "Ω  = Triangulation(model)\n",
    "dΩ = Measure(Ω,degree)\n",
    "\n",
    "Γ_out = BoundaryTriangulation(model,tags=\"outlet\")\n",
    "n_Γout = get_normal_vector(Γ_out)\n",
    "dΓ_out = Measure(Γ_out,degree)"
   ],
   "metadata": {},
   "execution_count": null
  },
  {
   "cell_type": "markdown",
   "source": [
    "We can then proceed to implement our weak form: As you can see, it is done in the same way as in serial. Unfortunately, automatic differentiation is (yet) working on parallel. This means we will have to define the jacobians explicitly:"
   ],
   "metadata": {}
  },
  {
   "outputs": [],
   "cell_type": "code",
   "source": [
    "const Re = 100.0\n",
    "conv(u,∇u) = Re*(∇u')⋅u\n",
    "\n",
    "m((u,p),(v,q)) = ∫( u⋅v )dΩ\n",
    "a((u,p),(v,q)) = ∫( ∇(v)⊙∇(u) - (∇⋅v)*p + q*(∇⋅u) )dΩ\n",
    "c(u,v) = ∫( v⊙(conv∘(u,∇(u))) )dΩ\n",
    "dc(u,du,v) = ∫( v⊙(conv∘(u,∇(du)) + conv∘(du,∇(u))) )dΩ\n",
    "\n",
    "res(t,(u,p),(v,q)) = m((∂t(u),p),(v,q)) + a((u,p),(v,q)) + c(u,v)\n",
    "jac(t,(u,p),(du,dp),(v,q)) = a((du,dp),(v,q)) + dc(u,du,v)\n",
    "jac_t(t,(u,p),(dut,dpt),(v,q)) = m((dut,dpt),(v,q))\n",
    "op = TransientFEOperator(res,jac,jac_t,X,Y)"
   ],
   "metadata": {},
   "execution_count": null
  },
  {
   "cell_type": "markdown",
   "source": [
    "We now define the nonlinear solver. Unfortunately, the solvers in `NLSolvers.jl` are not designed for distributed programming. We will therefore have to rely on Gridap's implementation of the Newton-Raphson solver:"
   ],
   "metadata": {}
  },
  {
   "outputs": [],
   "cell_type": "code",
   "source": [
    "using Gridap.Algebra\n",
    "nls = NewtonRaphsonSolver(LUSolver(),1.e-6,10)"
   ],
   "metadata": {},
   "execution_count": null
  },
  {
   "cell_type": "markdown",
   "source": [
    "### Exercise 3\n",
    "\n",
    "_By using the code from the previous exercise, create the transient solver. In this exercise you should use the `ThetaMethod` with $\\theta = 0.5$ and a time step size $\\Delta t = 0.01$._"
   ],
   "metadata": {}
  },
  {
   "outputs": [],
   "cell_type": "code",
   "source": [
    "Δt = 0.01\n",
    "θ  = 0.5\n",
    "ode_solver = ThetaMethod(nls,Δt,θ)"
   ],
   "metadata": {},
   "execution_count": null
  },
  {
   "cell_type": "markdown",
   "source": [
    "We can finally solve the problem and print the solutions:"
   ],
   "metadata": {}
  },
  {
   "outputs": [],
   "cell_type": "code",
   "source": [
    "x₀ = interpolate_everywhere([VectorValue(0.0,0.0),0.0],X(0.0))\n",
    "t₀ = 0.0\n",
    "T  = Tth\n",
    "xₕₜ = solve(ode_solver,op,x₀,t₀,T)\n",
    "\n",
    "dir = datadir(\"ins_distributed\")\n",
    "i_am_main(ranks) && !isdir(dir) && mkdir(dir)\n",
    "for (xₕ,t) in xₕₜ\n",
    "  println(\" > Computing solution at time $t\")\n",
    "  uₕ,pₕ = xₕ\n",
    "  file = dir*\"/solution_$t\"*\".vtu\"\n",
    "  writevtk(Ω,file,cellfields=[\"u\"=>uₕ,\"p\"=>pₕ])\n",
    "end"
   ],
   "metadata": {},
   "execution_count": null
  }
 ],
 "nbformat_minor": 3,
 "metadata": {
  "language_info": {
   "file_extension": ".jl",
   "mimetype": "application/julia",
   "name": "julia",
   "version": "1.9.1"
  },
  "kernelspec": {
   "name": "julia-1.9",
   "display_name": "Julia 1.9.1",
   "language": "julia"
  }
 },
 "nbformat": 4
}
