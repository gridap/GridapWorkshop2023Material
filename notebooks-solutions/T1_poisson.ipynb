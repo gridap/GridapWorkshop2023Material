{
 "cells": [
  {
   "cell_type": "markdown",
   "source": [
    "## Problem statement\n",
    "\n",
    "In this first tutorial, we provide an overview of a complete simulation pipeline in Gridap: from the construction of the FE mesh to the visualization of the computed results. To this end, we consider a simple model problem: the Poisson equation.\n",
    "\n",
    "We want to solve the Poisson equation on the 3D cartesian domain $[-\\pi,\\pi]\\times[-\\pi/2,\\pi/2]\\times[0,1]$ with Dirichlet and Neumann boundary conditions. Neumann boundary conditions are applied on $\\Gamma_{\\rm N} = \\{ z = 0 \\} \\cup \\{ z = 1 \\}$, i.e the bottom and top boundaries. Dirichlet boundary conditions are applied everywhere else, i.e $\\Gamma_{\\rm D} = \\{ x = -\\pi \\} \\cup \\{ x = \\pi \\} \\cup \\{ y = -\\pi/2 \\} \\cup \\{ y = \\pi/2 \\}$.\n",
    "\n",
    " Formally, the problem to solve is: find the scalar field $u$ such that\n",
    "\n",
    "$$\n",
    "\\left\\lbrace\n",
    "\\begin{aligned}\n",
    "-\\Delta u = f  \\ &\\text{ in } \\ \\Omega,\\\\\n",
    "u = g \\ &\\text{ on }\\ \\Gamma_{\\rm D},\\\\\n",
    " n \\cdot \\nabla u = h \\ &\\text{ on }\\  \\Gamma_{\\rm N},\\\\\n",
    "\\end{aligned}\n",
    "\\right.\n",
    "$$\n",
    " with $n$ being  the outwards unit normal vector to the Neumann boundary $\\Gamma_{\\rm N}$.\n",
    "In this tutorial, we will try to recover an analytical solution $u_0(x,y,z) = {\\rm cos}(x)\\ {\\rm sin}(y+π)$ and analyze the convergence rates of our numerical approximation.\n",
    "\n",
    " ## Numerical scheme\n",
    "\n",
    " To solve this PDE, we use a conventional Galerkin finite element (FE) method with conforming Lagrangian FE spaces (see, e.g., [1] for specific details on this formulation). The weak form associated with this formulation is: find $u\\in U$ such that $ a(u,v) = l(v) $ for all $v\\in V$, where $U$ and $V$ are the subset of functions in $H^1(\\Omega)$ that fulfill the Dirichlet boundary condition $g$ and $0$ respectively. The bilinear and linear forms for this problems are\n",
    "$$\n",
    "  a(u,v) \\doteq \\int_{\\Omega} \\nabla v \\cdot \\nabla u \\ {\\rm d}\\Omega, \\quad l(v) \\doteq \\int_{\\Omega} v\\ f  \\ {\\rm  d}\\Omega + \\int_{\\Gamma_{\\rm N}} v\\ h \\ {\\rm d}\\Gamma_{\\rm N}.\n",
    "$$\n",
    "The problem is solved numerically by approximating the spaces $U$ and $V$ by their discrete counterparts associated with a FE mesh of the computational domain $\\Omega$. As we have anticipated, we consider standard conforming Lagrangian FE spaces for this purpose.\n",
    "\n",
    "The implementation of this numerical scheme in Gridap is done in a user-friendly way thanks to the abstractions provided by the library. As it will be seen below, all the mathematical objects involved in the definition of the discrete weak problem have a correspondent representation in the code.\n",
    "\n",
    " ## Setup\n",
    "\n",
    " The step number 0 in order to solve the problem is to load the Gridap library in the code. For convenience, we will also be using `DrWatson.jl`. If you have configured your Julia environment properly, it is simply done with the line:"
   ],
   "metadata": {}
  },
  {
   "outputs": [],
   "cell_type": "code",
   "source": [
    "using Gridap\n",
    "using DrWatson"
   ],
   "metadata": {},
   "execution_count": null
  },
  {
   "cell_type": "markdown",
   "source": [
    "We define the analytical solution we will try to retrieve as follows:"
   ],
   "metadata": {}
  },
  {
   "outputs": [],
   "cell_type": "code",
   "source": [
    "u₀(x)  = cos(x[1])*sin(x[2]+π)\n",
    "∇u₀(x) = VectorValue(-sin(x[1])*sin(x[2]+π),cos(x[1])*cos(x[2]+π),0.0)\n",
    "Δu₀(x) = -2.0*cos(x[1])*sin(x[2]+π)"
   ],
   "metadata": {},
   "execution_count": null
  },
  {
   "cell_type": "markdown",
   "source": [
    "We also define the other functions involved in the problem statement:"
   ],
   "metadata": {}
  },
  {
   "outputs": [],
   "cell_type": "code",
   "source": [
    "f(x) = -Δu₀(x)\n",
    "g(x) = u₀(x)\n",
    "h(x) = 0.0      # ∇u₀ ⋅ n_Γ = ∇u₀ ⋅ ± e₃ = 0"
   ],
   "metadata": {},
   "execution_count": null
  },
  {
   "cell_type": "markdown",
   "source": [
    "## Discrete model\n",
    "\n",
    "As in any FE simulation, we need a discretization of the computational domain (i.e., a FE mesh). All geometrical data needed for solving a FE problem is provided in Gridap by types inheriting from the abstract type `DiscreteModel`. In our particular case, we will create a `CartesianDiscreteModel` of the computational domain $\\Omega = [-\\pi,\\pi]\\times[-\\pi/2,\\pi/2]\\times[0,1]$ with a resolution $n_C=(n_x,n_y,n_z)$"
   ],
   "metadata": {}
  },
  {
   "outputs": [],
   "cell_type": "code",
   "source": [
    "domain = (-π,π,-π/2,π/2,0,1)\n",
    "nC     = (100,40,5)\n",
    "model  = CartesianDiscreteModel(domain,nC)"
   ],
   "metadata": {},
   "execution_count": null
  },
  {
   "cell_type": "markdown",
   "source": [
    "By construction, a `CartesianDiscreteModel` associates with labels every vertex, edge and facet of the model to its parent corner, edge, facet or interior of the grid's bounding box. Label numbering follows the increasing lexicographic order.\n",
    "\n",
    "We use this default order to set up the BCs as follows. For convenience, we create two new boundary tags, namely `\"dirichlet\"` and `\"neumann\"`.\n",
    "\n",
    "Gridap provides a convenient way to create new object identifiers (referred to as \"tags\") from existing ones. First, we need to extract from the model, the object that holds the information about the boundary identifiers (referred to as `FaceLabeling`):"
   ],
   "metadata": {}
  },
  {
   "outputs": [],
   "cell_type": "code",
   "source": [
    "labels = get_face_labeling(model)"
   ],
   "metadata": {},
   "execution_count": null
  },
  {
   "cell_type": "markdown",
   "source": [
    "Then, we can add new identifiers (aka \"tags\") to it. In the next line, we create new tags called `\"dirichlet\"` and `\"neumann\"` combining the default labels of the model to represent $\\Gamma_D$ and $\\Gamma_N$ respectively."
   ],
   "metadata": {}
  },
  {
   "outputs": [],
   "cell_type": "code",
   "source": [
    "add_tag_from_tags!(labels,\"neumann\",[\"tag_21\",\"tag_22\"])\n",
    "add_tag_from_tags!(labels,\"dirichlet\",[\"tag_23\",\"tag_24\",\"tag_25\",\"tag_26\"])"
   ],
   "metadata": {},
   "execution_count": null
  },
  {
   "cell_type": "markdown",
   "source": [
    "Note the usage of `add_tag_from_tags!` to construct new boundary tags gathering lower-level tags."
   ],
   "metadata": {}
  },
  {
   "cell_type": "markdown",
   "source": [
    "## Approximation spaces"
   ],
   "metadata": {}
  },
  {
   "outputs": [],
   "cell_type": "code",
   "source": [
    "order = 1\n",
    "reffe = ReferenceFE(lagrangian,Float64,order)\n",
    "V = TestFESpace(model,reffe;conformity=:H1,dirichlet_tags=\"dirichlet\")"
   ],
   "metadata": {},
   "execution_count": null
  },
  {
   "cell_type": "markdown",
   "source": [
    "Here, we have used the `TestFESpace` constructor, which constructs a particular FE space (to be used as a test space) from a set of options described as positional and key-word arguments. The first positional argument is the model on top of which we want to build the space. The second positional argument contains information about the type of FE interpolation (the reference FE in this case).\n",
    "With `ReferenceFE(lagrangian,Float64,order)` We select a scalar-valued Lagrangian reference FE of order 1, where the value of the shape functions will be represented with  64-bit floating point numbers.\n",
    "With the key-word argument `conformity` we define the regularity of the interpolation at the boundaries of the cells in the mesh. Here, we use `conformity=:H1`, which means that the resulting interpolation space is a subset of $H^1(\\Omega)$ (i.e., continuous shape functions). On the other hand, we pass the identifiers of the Dirichlet boundary via the `dirichlet_tags` argument. Since this is a test space, the corresponding shape functions vanishes at the Dirichlet boundary.\n",
    "\n",
    "Once the space $V$ is discretized in the code, we proceed with the approximation of the trial space $U$."
   ],
   "metadata": {}
  },
  {
   "outputs": [],
   "cell_type": "code",
   "source": [
    "U = TrialFESpace(V,g)"
   ],
   "metadata": {},
   "execution_count": null
  },
  {
   "cell_type": "markdown",
   "source": [
    "To this end, we have used the `TrialFESpace` constructors. Note that we have passed a function representing the value of the Dirichlet boundary condition, when building the trial space (here our analytical solution).\n",
    "\n",
    "\n",
    "## Numerical integration\n",
    "\n",
    "Once we have built the interpolation spaces, the next step is to set up the machinery to perform the integrals in the weak form numerically. Here, we need to compute integrals on the interior of the domain $\\Omega$ and on the Neumann boundary $\\Gamma_{\\rm N}$. In both cases, we need two main ingredients. We need to define an integration mesh (i.e. a triangulation of the integration domain), plus a Gauss-like quadrature in each of the cells in the triangulation. In Gridap, integration meshes are represented by types inheriting from the abstract type `Triangulation`. For integrating on the domain $\\Omega$, we build the following triangulation and the corresponding Lebesgue measure, which will allow to write down integrals in a syntax similar to the usual mathematical notation."
   ],
   "metadata": {}
  },
  {
   "outputs": [],
   "cell_type": "code",
   "source": [
    "degree = order*2\n",
    "Ω  = Triangulation(model)\n",
    "dΩ = Measure(Ω,degree)"
   ],
   "metadata": {},
   "execution_count": null
  },
  {
   "cell_type": "markdown",
   "source": [
    "Here, we build a triangulation from the cells of the model and build (an approximation of) the Lebesgue measure using a quadrature rule of degree 2 in the cells of this triangulation. This is enough for integrating the corresponding terms of the weak form exactly for an interpolation of order 1.\n",
    "\n",
    "On the other hand, we need a special type of triangulation, represented by the type `BoundaryTriangulation`, to integrate on the boundary. Essentially, a `BoundaryTriangulation` is a particular type of `Triangulation` that is aware of which cells in the model are touched by faces on the boundary. We build an instance of this type from the discrete model and the names used to identify the Neumann boundary as follows:"
   ],
   "metadata": {}
  },
  {
   "outputs": [],
   "cell_type": "code",
   "source": [
    "Γ   = BoundaryTriangulation(model,tags=\"neumann\")\n",
    "dΓ  = Measure(Γ,degree)"
   ],
   "metadata": {},
   "execution_count": null
  },
  {
   "cell_type": "markdown",
   "source": [
    "In addition, we have created a quadrature of degree 2 on top of the cells in the triangulation for the Neumann boundary."
   ],
   "metadata": {}
  },
  {
   "cell_type": "markdown",
   "source": [
    "## Weak form\n",
    "\n",
    "With all the ingredients presented so far, we are ready to define the weak form. This is done by defining functions representing the bi-linear and linear forms:"
   ],
   "metadata": {}
  },
  {
   "outputs": [],
   "cell_type": "code",
   "source": [
    "a(u,v) = ∫( ∇(v)⋅∇(u) )*dΩ\n",
    "l(v)   = ∫( v*f )*dΩ + ∫( v*h )*dΓ"
   ],
   "metadata": {},
   "execution_count": null
  },
  {
   "cell_type": "markdown",
   "source": [
    "Note that by using the integral function `∫`, the Lebesgue measures `dΩ`, `dΓ`, and the gradient function `∇`, the weak form is written with an obvious relation with the corresponding mathematical notation."
   ],
   "metadata": {}
  },
  {
   "cell_type": "markdown",
   "source": [
    " ## FE Problem\n",
    "\n",
    " At this point, we can build the FE problem that, once solved, will provide the numerical solution we are looking for. A FE problem is represented in Gridap by types inheriting from the abstract type `FEOperator` (both for linear and nonlinear cases). Since we want to solve a linear problem, we use the concrete type `AffineFEOperator`, i.e., a problem represented by a matrix and a right hand side vector."
   ],
   "metadata": {}
  },
  {
   "outputs": [],
   "cell_type": "code",
   "source": [
    "op = AffineFEOperator(a,l,U,V)"
   ],
   "metadata": {},
   "execution_count": null
  },
  {
   "cell_type": "markdown",
   "source": [
    "Note that the `AffineFEOperator` object representing our FE problem is built from the function `a` and `l` representing the weak form and test and trial FE spaces `V` and `U`.\n",
    "\n",
    "We can also retrieve the matrix and the right hand side vector of the problem as follows:"
   ],
   "metadata": {}
  },
  {
   "outputs": [],
   "cell_type": "code",
   "source": [
    "A = get_matrix(op)\n",
    "b = get_vector(op)"
   ],
   "metadata": {},
   "execution_count": null
  },
  {
   "cell_type": "markdown",
   "source": [
    " ## Solver phase\n",
    "\n",
    " We have constructed a FE problem, the last step is to solve it. In Gridap, FE problems are solved with types inheriting from the abstract type `FESolver`. Since this is a linear problem, we use a `LinearFESolver`:"
   ],
   "metadata": {}
  },
  {
   "outputs": [],
   "cell_type": "code",
   "source": [
    "ls = LUSolver()\n",
    "solver = LinearFESolver(ls)"
   ],
   "metadata": {},
   "execution_count": null
  },
  {
   "cell_type": "markdown",
   "source": [
    " `LinearFESolver` objects are built from a given algebraic linear solver. In this case, we use a LU factorization. Now we are ready to solve the FE problem with the FE solver as follows:"
   ],
   "metadata": {}
  },
  {
   "outputs": [],
   "cell_type": "code",
   "source": [
    "uh = solve(solver,op)"
   ],
   "metadata": {},
   "execution_count": null
  },
  {
   "cell_type": "markdown",
   "source": [
    "The `solve` function returns the computed numerical solution `uh`. This object is an instance of `FEFunction`, the type used to represent a function in a FE space. `FEFunction` is part of the `CellField` abstract type, which are objects that represent fields over a triangulated domain. We can inspect the result by writing it into a `vtk` file:"
   ],
   "metadata": {}
  },
  {
   "outputs": [],
   "cell_type": "code",
   "source": [
    "writevtk(Ω,datadir(\"poisson\"),cellfields=[\"uh\"=>uh])"
   ],
   "metadata": {},
   "execution_count": null
  },
  {
   "cell_type": "markdown",
   "source": [
    " which will generate a file named `poisson_sol.vtu` having a nodal field named `\"uh\"` containing the solution of our problem (see next figure).\n",
    "\n",
    "![](../figures/poisson/fig_uh.png)\n",
    "\n",
    "Additionally, we can compute the L2 error of the numerical solution as follows:"
   ],
   "metadata": {}
  },
  {
   "outputs": [],
   "cell_type": "code",
   "source": [
    "dΩe  = Measure(Ω,degree*2)\n",
    "e = uh - u₀\n",
    "l2_error = sqrt(sum(∫(e⋅e)*dΩe))"
   ],
   "metadata": {},
   "execution_count": null
  },
  {
   "cell_type": "markdown",
   "source": [
    "## Convergence analysis\n",
    "\n",
    "One of the advantages of having an analytical solution is that we can compute the convergence rates of our numerical approximation. The first step is to define a driver by putting together all the steps described above. The driver takes two arguments: the number of cells in the $x$ and $y$ direction, $n$, and the order of the finite-element interpolation, $p$. It returns the L2 error of the numerical solution."
   ],
   "metadata": {}
  },
  {
   "outputs": [],
   "cell_type": "code",
   "source": [
    "function driver(n,order)\n",
    "  domain = (-π,π,-π/2,π/2,0,1)\n",
    "  nC     = (n,n,1)\n",
    "  model  = CartesianDiscreteModel(domain,nC)\n",
    "  labels = get_face_labeling(model)\n",
    "  add_tag_from_tags!(labels,\"dirichlet\",[\"tag_21\",\"tag_22\"])\n",
    "  add_tag_from_tags!(labels,\"neumann\",[\"tag_23\",\"tag_24\",\"tag_25\",\"tag_26\"])\n",
    "\n",
    "  reffe = ReferenceFE(lagrangian,Float64,order)\n",
    "  V = TestFESpace(model,reffe;conformity=:H1,dirichlet_tags=\"dirichlet\")\n",
    "\n",
    "  U = TrialFESpace(V,g)\n",
    "  degree = order*2+1\n",
    "  Ω   = Triangulation(model)\n",
    "  dΩ  = Measure(Ω,degree)\n",
    "  Γ   = BoundaryTriangulation(model,tags=\"neumann\")\n",
    "  dΓ  = Measure(Γ,degree)\n",
    "\n",
    "  a(u,v) = ∫( ∇(v)⋅∇(u) )*dΩ\n",
    "  l(v)   = ∫( v*f )*dΩ + ∫( v*h )*dΓ\n",
    "  op     = AffineFEOperator(a,l,U,V)\n",
    "  ls     = LUSolver()\n",
    "  solver = LinearFESolver(ls)\n",
    "  uh = solve(solver,op)\n",
    "\n",
    "  dΩe  = Measure(Ω,degree*2)\n",
    "  e = uh - u₀\n",
    "  return sqrt(sum(∫(e⋅e)*dΩe))\n",
    "end"
   ],
   "metadata": {},
   "execution_count": null
  },
  {
   "cell_type": "markdown",
   "source": [
    "We then run the driver for different values of $n$ and $p$, saving the values of the L2 error for each configuration."
   ],
   "metadata": {}
  },
  {
   "outputs": [],
   "cell_type": "code",
   "source": [
    "order_vec = [1,2]\n",
    "n_vec = [10,20,40,80]\n",
    "h_vec = map(n -> 1/n, n_vec)\n",
    "\n",
    "error = zeros((length(order_vec),length(n_vec)))\n",
    "for (i,order) in enumerate(order_vec)\n",
    "  for (j,n) in enumerate(n_vec)\n",
    "    error[i,j] = driver(n,order)\n",
    "  end\n",
    "end"
   ],
   "metadata": {},
   "execution_count": null
  },
  {
   "cell_type": "markdown",
   "source": [
    "Finally, we plot the results and compute the convergence rates."
   ],
   "metadata": {}
  },
  {
   "outputs": [],
   "cell_type": "code",
   "source": [
    "using Plots\n",
    "plt = plot(xlabel=\"log10(h)\",ylabel=\"log10(L2 error)\",grid=true)\n",
    "for (i,e) in enumerate(eachrow(error))\n",
    "  order = order_vec[i]\n",
    "  dx = log10(h_vec[1]) - log10(h_vec[end])\n",
    "  dy = log10(e[1]) - log10(e[end])\n",
    "  slope = string(dy/dx)[1:4]\n",
    "  plot!(plt,log10.(h_vec),log10.(e),label=\"p = $(order), slope = $(slope)\")\n",
    "end\n",
    "@show plt"
   ],
   "metadata": {},
   "execution_count": null
  },
  {
   "cell_type": "markdown",
   "source": [
    "The resulting plot is shown in the next figure:\n",
    "\n",
    "![](../figures/poisson/convergence.png)\n",
    "\n",
    "## References\n",
    "\n",
    "[1] C. Johnson. *Numerical Solution of Partial Differential Equations by the Finite Element Method*. Dover Publications, 2009."
   ],
   "metadata": {}
  }
 ],
 "nbformat_minor": 3,
 "metadata": {
  "language_info": {
   "file_extension": ".jl",
   "mimetype": "application/julia",
   "name": "julia",
   "version": "1.9.1"
  },
  "kernelspec": {
   "name": "julia-1.9",
   "display_name": "Julia 1.9.1",
   "language": "julia"
  }
 },
 "nbformat": 4
}
