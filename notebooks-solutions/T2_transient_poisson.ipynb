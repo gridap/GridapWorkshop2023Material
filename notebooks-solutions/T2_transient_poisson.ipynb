{
 "cells": [
  {
   "cell_type": "markdown",
   "source": [
    "## Introduction"
   ],
   "metadata": {}
  },
  {
   "cell_type": "markdown",
   "source": [
    "In this tutorial we will learn how to use Gridap for approximating transient PDEs by using time marching schemes (method of lines). We consider the *heat equation*, a.k.a. the transient Poisson equation."
   ],
   "metadata": {}
  },
  {
   "cell_type": "markdown",
   "source": [
    "## Problem statement"
   ],
   "metadata": {}
  },
  {
   "cell_type": "markdown",
   "source": [
    "We solve the heat equation in a 2-dimensional domain $\\Omega$, the unit square, with Homogeneous Dirichlet boundaries on the whole boundary $\\partial \\Omega$. We consider a time-dependent conductivity $\\kappa(t)=1.0 + 0.95\\sin(2\\pi t)$, a time-dependent volumetric forcing term $f(t) = \\sin(\\pi t)$ and a constant Homogeneous boundary condition $g = 0.0$. The initial solution is $u(x,0) = u_0 = 0$. With these definitions, the strong form of the problem reads:"
   ],
   "metadata": {}
  },
  {
   "cell_type": "markdown",
   "source": [
    "$$\n",
    "\\left\\lbrace\n",
    "\\begin{aligned}\n",
    "\\frac{\\partial u(t)}{\\partial t} -\\kappa(t)\\Delta u(t) = f(t)  \\ &\\text{ in } \\ \\Omega,\\\\\n",
    "u(t) = 0 \\ &\\text{ on }\\ \\Gamma_{\\rm D},\\\\\n",
    "u(0) = 0 \\ &\\text{ in }\\ \\Omega\\\\\n",
    "\\end{aligned}\n",
    "\\right.\n",
    "$$"
   ],
   "metadata": {}
  },
  {
   "cell_type": "markdown",
   "source": [
    "The weak form of the problem reads: find $u(t)\\in U_g(t)$ such that"
   ],
   "metadata": {}
  },
  {
   "cell_type": "markdown",
   "source": [
    "$$\n",
    "m(t,u,v) + a(t,u,v) = b(t,v)\\quad \\forall v\\in \\ V\n",
    "$$"
   ],
   "metadata": {}
  },
  {
   "cell_type": "markdown",
   "source": [
    "Note that $U_t(t)$ is a transient FE space, in the sense that Dirichlet boundary value of functions in $U_t$ _can_ change in time (even though this is not the case in this tutorial). The definition of $m(u,v)$, $a(u,v)$ and $b(v)$ is as follows:"
   ],
   "metadata": {}
  },
  {
   "cell_type": "markdown",
   "source": [
    "$$\n",
    "\\begin{aligned}\n",
    "m(t,u,v) = \\int_\\Omega v\\frac{\\partial u}{\\partial t} d\\Omega, \\\\\n",
    "a(t,u,v) = \\int_\\Omega \\kappa(t) \\nabla v\\cdot \\nabla u d\\Omega, \\\\\n",
    "b(t,v) = \\int_\\Omega v\\ f(t) d\\Omega\n",
    "\\end{aligned}\n",
    "$$"
   ],
   "metadata": {}
  },
  {
   "cell_type": "markdown",
   "source": [
    "## Discrete model and Triangulation"
   ],
   "metadata": {}
  },
  {
   "cell_type": "markdown",
   "source": [
    "As for Poisson, we start by loading the libaries and defining our `DiscreteModel` the `Triangulation`."
   ],
   "metadata": {}
  },
  {
   "outputs": [],
   "cell_type": "code",
   "source": [
    "using Gridap\n",
    "using DrWatson\n",
    "\n",
    "model = CartesianDiscreteModel((0,1,0,1),(20,20))\n",
    "Ω  = Triangulation(model)\n",
    "dΩ = Measure(Ω,2)"
   ],
   "metadata": {},
   "execution_count": null
  },
  {
   "cell_type": "markdown",
   "source": [
    "## FE spaces\n",
    "\n",
    "The space of test functions is constant in time and is defined like for the steady problem:"
   ],
   "metadata": {}
  },
  {
   "outputs": [],
   "cell_type": "code",
   "source": [
    "reffe = ReferenceFE(lagrangian,Float64,1)\n",
    "V = TestFESpace(model,reffe,dirichlet_tags=\"boundary\")"
   ],
   "metadata": {},
   "execution_count": null
  },
  {
   "cell_type": "markdown",
   "source": [
    "The trial space is now a `TransientTrialFESpace`, which is constructed from a `TestFESpace` and a function (or vector of functions) for the Dirichlet boundary condition/s. In that case, the boundary condition function is a time-independent constant, but it could also be a time-dependent field depending on the coordinates $x$ and time $t$."
   ],
   "metadata": {}
  },
  {
   "outputs": [],
   "cell_type": "code",
   "source": [
    "g(x,t::Real) = 0.0\n",
    "g(t::Real) = x -> g(x,t)\n",
    "U = TransientTrialFESpace(V,g)"
   ],
   "metadata": {},
   "execution_count": null
  },
  {
   "cell_type": "markdown",
   "source": [
    "## Weak form\n",
    "\n",
    "The weak form of the problem follows the same structure as other `Gridap` tutorials, where we define the bilinear and linear forms to define the `FEOperator`. In this case we need to deal with time-dependent quantities and with the presence of time derivatives. The former is handled by passing the time, $t$, as an additional argument to the form, i.e. $a(t,u,v)$. The latter is defined using the time derivative operator `∂t`."
   ],
   "metadata": {}
  },
  {
   "cell_type": "markdown",
   "source": [
    "The most general way of constructing a transient FE operator is by using the `TransientFEOperator` function, which receives a residual, a jacobian with respect to the unknown and a jacobian with respect to the time derivative."
   ],
   "metadata": {}
  },
  {
   "outputs": [],
   "cell_type": "code",
   "source": [
    "κ(t) = 1.0 + 0.95*sin(2π*t)\n",
    "f(t) = sin(π*t)\n",
    "res(t,u,v) = ∫( ∂t(u)*v + κ(t)*(∇(u)⋅∇(v)) - f(t)*v )dΩ\n",
    "jac(t,u,du,v) = ∫( κ(t)*(∇(du)⋅∇(v)) )dΩ\n",
    "jac_t(t,u,duₜ,v) = ∫( duₜ*v )dΩ\n",
    "op = TransientFEOperator(res,jac,jac_t,U,V)"
   ],
   "metadata": {},
   "execution_count": null
  },
  {
   "cell_type": "markdown",
   "source": [
    "We can also take advantage of automatic differentiation techniques to compute both Jacobians and use the `TransientFEOperator` function sending just the residual."
   ],
   "metadata": {}
  },
  {
   "outputs": [],
   "cell_type": "code",
   "source": [
    "op_AD = TransientFEOperator(res,U,V)"
   ],
   "metadata": {},
   "execution_count": null
  },
  {
   "cell_type": "markdown",
   "source": [
    "Alternatively, we can exploit the fact that the problem is linear and use the transient Affine FE operator signature `TransientAffineFEOperator`. In that case, we send a form for the mass contribution, $m$, a form for the stiffness contribution, $a$, and the forcing term, $b$."
   ],
   "metadata": {}
  },
  {
   "outputs": [],
   "cell_type": "code",
   "source": [
    "m(t,u,v) = ∫( u*v )dΩ\n",
    "a(t,u,v) = ∫( κ(t)*(∇(u)⋅∇(v)) )dΩ\n",
    "b(t,v) = ∫( f(t)*v )dΩ\n",
    "op_Af = TransientAffineFEOperator(m,a,b,U,V)"
   ],
   "metadata": {},
   "execution_count": null
  },
  {
   "cell_type": "markdown",
   "source": [
    "### Alternative FE operator definitions\n",
    "\n",
    "For time-dependent problems with **constant coefficients**, which is not the case of this tutorial, one could use the optimized operator `TransientConstantMatrixFEOperator`, which assumes that the matrix contributions ($m$ and $a$) are time-independent. That is:"
   ],
   "metadata": {}
  },
  {
   "outputs": [],
   "cell_type": "code",
   "source": [
    "m₀(u,v) = ∫( u*v )dΩ\n",
    "a₀(u,v) = ∫( κ(0.0)*(∇(u)⋅∇(v)) )dΩ\n",
    "op_CM = TransientConstantMatrixFEOperator(m₀,a₀,b,U,V)"
   ],
   "metadata": {},
   "execution_count": null
  },
  {
   "cell_type": "markdown",
   "source": [
    "Going further, if we had a problem with constant forcing term, i.e. constant force and constant boundary conditions, we could have used the `TransientConstantFEOperator`. In that case the linear form is also time-independent."
   ],
   "metadata": {}
  },
  {
   "outputs": [],
   "cell_type": "code",
   "source": [
    "b₀(v) = ∫( f(0.0)*v )dΩ\n",
    "op_C = TransientConstantFEOperator(m₀,a₀,b₀,U,V)"
   ],
   "metadata": {},
   "execution_count": null
  },
  {
   "cell_type": "markdown",
   "source": [
    "## Transient solver"
   ],
   "metadata": {}
  },
  {
   "cell_type": "markdown",
   "source": [
    "Once we have the FE operator defined, we proceed with the definition of the transient solver. First, we define a linear solver to be used at each time step. Here we use the `LUSolver`, but other choices are possible."
   ],
   "metadata": {}
  },
  {
   "outputs": [],
   "cell_type": "code",
   "source": [
    "linear_solver = LUSolver()"
   ],
   "metadata": {},
   "execution_count": null
  },
  {
   "cell_type": "markdown",
   "source": [
    "Then, we define the ODE solver. That is, the scheme that will be used for the time integration. In this tutorial we use the `ThetaMethod` with $\\theta = 0.5$, resulting in a 2nd order scheme. The `ThetaMethod` function receives the linear solver, the time step size $\\Delta t$ (constant) and the value of $\\theta$."
   ],
   "metadata": {}
  },
  {
   "outputs": [],
   "cell_type": "code",
   "source": [
    "Δt = 0.05\n",
    "θ = 0.5\n",
    "ode_solver = ThetaMethod(linear_solver,Δt,θ)"
   ],
   "metadata": {},
   "execution_count": null
  },
  {
   "cell_type": "markdown",
   "source": [
    "Finally, we define the solution using the `solve` function, giving the ODE solver, the FE operator, an initial solution, an initial time and a final time. To construct the initial condition we interpolate the initial value (in that case a constant value of 0.0) into the FE space $U(t)$ at $t=0.0$."
   ],
   "metadata": {}
  },
  {
   "outputs": [],
   "cell_type": "code",
   "source": [
    "u₀ = interpolate_everywhere(0.0,U(0.0))\n",
    "t₀ = 0.0\n",
    "T = 10.0\n",
    "uₕₜ = solve(ode_solver,op,u₀,t₀,T)"
   ],
   "metadata": {},
   "execution_count": null
  },
  {
   "cell_type": "markdown",
   "source": [
    "## Postprocessing"
   ],
   "metadata": {}
  },
  {
   "cell_type": "markdown",
   "source": [
    "We should highlight that `uₕₜ` is just an _iterable_ function and the results at each time steps are only computed when iterating over it, i.e., lazily. We can post-process the results and generate the corresponding `vtk` files using the `createpvd` and `createvtk` functions. The former will create a `.pvd` file with the collection of `.vtu` files saved at each time step by `createvtk`. The computation of the problem solutions will be triggered in the following loop:"
   ],
   "metadata": {}
  },
  {
   "outputs": [],
   "cell_type": "code",
   "source": [
    "dir = datadir(\"poisson_transient_solution\")\n",
    "!isdir(dir) && mkdir(dir)\n",
    "createpvd(dir) do pvd\n",
    "  for (uₕ,t) in uₕₜ\n",
    "    file = dir*\"/solution_$t\"*\".vtu\"\n",
    "    pvd[t] = createvtk(Ω,file,cellfields=[\"u\"=>uₕ])\n",
    "  end\n",
    "end"
   ],
   "metadata": {},
   "execution_count": null
  },
  {
   "cell_type": "markdown",
   "source": [
    "![](../figures/poisson_transient/poisson_transient.gif)"
   ],
   "metadata": {}
  }
 ],
 "nbformat_minor": 3,
 "metadata": {
  "language_info": {
   "file_extension": ".jl",
   "mimetype": "application/julia",
   "name": "julia",
   "version": "1.9.1"
  },
  "kernelspec": {
   "name": "julia-1.9",
   "display_name": "Julia 1.9.1",
   "language": "julia"
  }
 },
 "nbformat": 4
}
